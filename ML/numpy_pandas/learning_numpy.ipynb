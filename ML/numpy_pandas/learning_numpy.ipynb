{
 "cells": [
  {
   "cell_type": "code",
   "execution_count": 2,
   "id": "c6abce2d-bf0a-49d7-ac53-5a32c098b09d",
   "metadata": {},
   "outputs": [],
   "source": [
    "import numpy as np\n",
    "import matplotlib.pyplot as plt"
   ]
  },
  {
   "cell_type": "code",
   "execution_count": 3,
   "id": "a78876ea-60f3-405c-b106-5389223f85ae",
   "metadata": {},
   "outputs": [
    {
     "data": {
      "text/plain": [
       "'2.0.2'"
      ]
     },
     "execution_count": 3,
     "metadata": {},
     "output_type": "execute_result"
    }
   ],
   "source": [
    "np.version.full_version"
   ]
  },
  {
   "cell_type": "markdown",
   "id": "71ed11cd-13db-433b-be51-b84ac633e47c",
   "metadata": {},
   "source": [
    "## Create an array i.e similar to list"
   ]
  },
  {
   "cell_type": "code",
   "execution_count": 4,
   "id": "60a3c500-6c0b-4966-8948-657a955eeaec",
   "metadata": {},
   "outputs": [],
   "source": [
    "a=np.array([0,1,2,3,4,5])"
   ]
  },
  {
   "cell_type": "code",
   "execution_count": 5,
   "id": "775076cf-9ef9-4d35-8e4e-b28098bbbbf1",
   "metadata": {},
   "outputs": [
    {
     "data": {
      "text/plain": [
       "array([0, 1, 2, 3, 4, 5])"
      ]
     },
     "execution_count": 5,
     "metadata": {},
     "output_type": "execute_result"
    }
   ],
   "source": [
    "a"
   ]
  },
  {
   "cell_type": "code",
   "execution_count": 6,
   "id": "7ae6ba2f-6d17-47e1-8713-66ba7e72a712",
   "metadata": {},
   "outputs": [
    {
     "data": {
      "text/plain": [
       "1"
      ]
     },
     "execution_count": 6,
     "metadata": {},
     "output_type": "execute_result"
    }
   ],
   "source": [
    "a.ndim"
   ]
  },
  {
   "cell_type": "code",
   "execution_count": 7,
   "id": "c07431da-defd-4f76-8d7b-e6d8a4ab5214",
   "metadata": {},
   "outputs": [
    {
     "data": {
      "text/plain": [
       "(6,)"
      ]
     },
     "execution_count": 7,
     "metadata": {},
     "output_type": "execute_result"
    }
   ],
   "source": [
    "a.shape"
   ]
  },
  {
   "cell_type": "code",
   "execution_count": 8,
   "id": "d6adbe0c-e754-4b2f-9b1b-3a8d022766f7",
   "metadata": {},
   "outputs": [
    {
     "name": "stdout",
     "output_type": "stream",
     "text": [
      "[0 1 2 3 4 5 6 7 8 9]\n"
     ]
    }
   ],
   "source": [
    "#Create a 1D NumPy array of numbers from 0 to 9\n",
    "arr = np.arange(10)\n",
    "print(arr)        # [0 1 2 3 4 5 6 7 8 9]"
   ]
  },
  {
   "cell_type": "code",
   "execution_count": 9,
   "id": "f359f1be-e27b-44e5-9aa4-016b3c2e41ef",
   "metadata": {},
   "outputs": [
    {
     "data": {
      "text/plain": [
       "array([  0,  10,  20,  30,  40,  50,  60,  70,  80,  90, 100])"
      ]
     },
     "execution_count": 9,
     "metadata": {},
     "output_type": "execute_result"
    }
   ],
   "source": [
    "#Create a 1D NumPy array of numbers from 0 to 100 with 10\n",
    "arr=np.arange(0,110,10)\n",
    "arr"
   ]
  },
  {
   "cell_type": "code",
   "execution_count": 10,
   "id": "824c43bc-117a-4293-aa0c-c50234828044",
   "metadata": {},
   "outputs": [
    {
     "name": "stdout",
     "output_type": "stream",
     "text": [
      "[0. 0. 0. 0. 0. 0. 0. 0. 0.]\n"
     ]
    },
    {
     "data": {
      "text/plain": [
       "array([[0., 0., 0.],\n",
       "       [0., 0., 0.],\n",
       "       [0., 0., 0.]])"
      ]
     },
     "execution_count": 10,
     "metadata": {},
     "output_type": "execute_result"
    }
   ],
   "source": [
    "#Create a 1D array filled with zeros of size 10\n",
    "zeros = np.zeros(9)\n",
    "print(zeros)\n",
    "new_arr=zeros.reshape(3,3)\n",
    "new_arr"
   ]
  },
  {
   "cell_type": "code",
   "execution_count": 11,
   "id": "dad7234a-29b8-4a4c-b04e-2633f57ffee4",
   "metadata": {},
   "outputs": [
    {
     "name": "stdout",
     "output_type": "stream",
     "text": [
      "[1. 1. 1. 1. 1.]\n"
     ]
    }
   ],
   "source": [
    "#Create a 1D array filled with ones of size 5\n",
    "ones = np.ones(5)\n",
    "print(ones)"
   ]
  },
  {
   "cell_type": "markdown",
   "id": "7fe20770-13c0-4e04-8b8c-30baac8d3b9e",
   "metadata": {},
   "source": [
    "## Simulations: We use random numbers to mimic unpredictable events, like the outcome of a dice roll, the arrival of customers in a queue, or the movement of particles.\n",
    "\n",
    "## Statistical Analysis: They're crucial for statistical sampling, hypothesis testing, and building models. For example, we might randomly select a subset of data to represent a larger population.\n",
    "\n",
    "## Machine Learning: Many machine learning algorithms, especially in their initialization or training phases, rely on random numbers. This includes initializing weights in neural networks or shuffling data for training.\n",
    "\n",
    "## Testing and Debugging: Random inputs can help uncover bugs or performance issues in software that might not be apparent with fixed inputs."
   ]
  },
  {
   "cell_type": "code",
   "execution_count": 13,
   "id": "e1618667-d6df-40df-82ad-eddd0f1c3ef3",
   "metadata": {},
   "outputs": [
    {
     "data": {
      "text/plain": [
       "array([0.73224185, 0.267621  , 0.14361653, 0.76558309, 0.65292173,\n",
       "       0.44804711, 0.69405746, 0.41400362, 0.93096457, 0.77938709,\n",
       "       0.73018746, 0.05253036, 0.46093627, 0.16268872, 0.05545785,\n",
       "       0.31717315, 0.92554421, 0.10651414, 0.18169427, 0.966069  ,\n",
       "       0.44859348, 0.17525201, 0.11819685, 0.01787157, 0.23332472,\n",
       "       0.15632842, 0.46019191, 0.35413833, 0.89103412, 0.27690451,\n",
       "       0.86504854, 0.65086964, 0.19175187, 0.57133053, 0.96301807,\n",
       "       0.44415274, 0.1590286 , 0.64328563, 0.08921411, 0.75855961,\n",
       "       0.81275504, 0.4776355 , 0.32628092, 0.93058532, 0.268093  ,\n",
       "       0.86636319, 0.83914763, 0.32520529, 0.27574598, 0.89412362,\n",
       "       0.39084658, 0.51641808, 0.58809575, 0.61486495, 0.27822539,\n",
       "       0.13442357, 0.96403181, 0.50783793, 0.00700469, 0.07585779,\n",
       "       0.53404347, 0.82007625, 0.2223525 , 0.08892351, 0.18287861,\n",
       "       0.7213019 , 0.02689612, 0.77708249, 0.50346738, 0.73095817,\n",
       "       0.7927839 , 0.62920109, 0.23405907, 0.12910274, 0.49623274,\n",
       "       0.59931829, 0.50611539, 0.60264384, 0.66486314, 0.47753188,\n",
       "       0.11006407, 0.82161008, 0.30248859, 0.0093763 , 0.60556529,\n",
       "       0.46637933, 0.34195895, 0.98437428, 0.84295503, 0.41078985,\n",
       "       0.41017395, 0.68144648, 0.4898182 , 0.73685289, 0.03193248,\n",
       "       0.74557049, 0.6694559 , 0.94650728, 0.89614706, 0.02240976])"
      ]
     },
     "execution_count": 13,
     "metadata": {},
     "output_type": "execute_result"
    }
   ],
   "source": [
    "#Array of 10 random numbers between 0 and 1\n",
    "rand_nums = np.random.rand(100)\n",
    "rand_nums"
   ]
  },
  {
   "cell_type": "code",
   "execution_count": 17,
   "id": "1028c8a0-f7b0-45af-a90b-cc15777c3ff3",
   "metadata": {},
   "outputs": [
    {
     "data": {
      "image/png": "[encoded data removed]",
      "text/plain": [
       "<Figure size 640x480 with 1 Axes>"
      ]
     },
     "metadata": {},
     "output_type": "display_data"
    }
   ],
   "source": [
    "import numpy as np\n",
    "import matplotlib.pyplot as plt\n",
    "\n",
    "# Generate 1000 random numbers between 0 and 1\n",
    "rand_nums = np.random.rand(100000)\n",
    "\n",
    "# Create a histogram of the random numbers\n",
    "plt.hist(rand_nums, bins=10, edgecolor='black')\n",
    "plt.title('Distribution of Random Numbers')\n",
    "plt.xlabel('Value')\n",
    "plt.ylabel('Frequency')\n",
    "plt.grid(axis='y', alpha=0.75)\n",
    "plt.savefig('random_number_distribution.png')"
   ]
  },
  {
   "cell_type": "code",
   "execution_count": 18,
   "id": "70a3930b-efcd-4957-974c-f6645584a5b4",
   "metadata": {},
   "outputs": [
    {
     "name": "stdout",
     "output_type": "stream",
     "text": [
      "3x3 Identity Matrix:\n",
      "[[1. 0. 0.]\n",
      " [0. 1. 0.]\n",
      " [0. 0. 1.]]\n",
      "\n",
      "4x4 Identity Matrix (using np.eye()):\n",
      "[[1. 0. 0. 0.]\n",
      " [0. 1. 0. 0.]\n",
      " [0. 0. 1. 0.]\n",
      " [0. 0. 0. 1.]]\n"
     ]
    }
   ],
   "source": [
    "# Create a 3x3 identity matrix\n",
    "identity_matrix_3x3 = np.identity(3)\n",
    "print(\"3x3 Identity Matrix:\")\n",
    "print(identity_matrix_3x3)\n",
    "\n",
    "# Using np.eye() - also creates an identity matrix by default\n",
    "identity_matrix_eye = np.eye(4)\n",
    "print(\"\\n4x4 Identity Matrix (using np.eye()):\")\n",
    "print(identity_matrix_eye)"
   ]
  },
  {
   "cell_type": "markdown",
   "id": "7633b674-f367-4b9b-b0b2-1d4ab8935d8d",
   "metadata": {},
   "source": [
    "## transform this arrya into a 2D matrix"
   ]
  },
  {
   "cell_type": "code",
   "execution_count": 19,
   "id": "65737870-a0fc-47e6-b65f-b283eb227b33",
   "metadata": {},
   "outputs": [
    {
     "data": {
      "text/plain": [
       "array([[0, 1],\n",
       "       [2, 3],\n",
       "       [4, 5]])"
      ]
     },
     "execution_count": 19,
     "metadata": {},
     "output_type": "execute_result"
    }
   ],
   "source": [
    "b= a.reshape((3,2)) #r,c\n",
    "b"
   ]
  },
  {
   "cell_type": "code",
   "execution_count": null,
   "id": "13cb3a0e-1e1a-4757-8fa8-765f783da902",
   "metadata": {},
   "outputs": [],
   "source": [
    "b.ndim"
   ]
  },
  {
   "cell_type": "code",
   "execution_count": null,
   "id": "bf151c7f-fdda-4281-a183-a931953b766c",
   "metadata": {},
   "outputs": [],
   "source": [
    "b.shape"
   ]
  },
  {
   "cell_type": "code",
   "execution_count": null,
   "id": "902102e2-bb24-4328-8ade-48ecd4ca3bdd",
   "metadata": {},
   "outputs": [],
   "source": [
    "## it avoids copies wherever possible"
   ]
  },
  {
   "cell_type": "code",
   "execution_count": 20,
   "id": "d04a178a-0612-4f96-8340-5bd16b79a04d",
   "metadata": {},
   "outputs": [],
   "source": [
    "b[1][0]=77"
   ]
  },
  {
   "cell_type": "code",
   "execution_count": 21,
   "id": "49d5a86c-a667-43b7-b93a-1c05518c1b92",
   "metadata": {},
   "outputs": [
    {
     "data": {
      "text/plain": [
       "array([[ 0,  1],\n",
       "       [77,  3],\n",
       "       [ 4,  5]])"
      ]
     },
     "execution_count": 21,
     "metadata": {},
     "output_type": "execute_result"
    }
   ],
   "source": [
    "b"
   ]
  },
  {
   "cell_type": "code",
   "execution_count": null,
   "id": "ab1d1afc-4ddf-4f03-8202-124f9b0e5d53",
   "metadata": {},
   "outputs": [],
   "source": [
    "## we can iimediately see the  same changes reflecte in a as well "
   ]
  },
  {
   "cell_type": "code",
   "execution_count": 22,
   "id": "3ffb3e9d-3e86-4583-8331-76763920bf07",
   "metadata": {},
   "outputs": [],
   "source": [
    "A = np.array([[1, 2, 3],\n",
    "                  [4, 5, 6],\n",
    "                  [7, 8, 9]])\n",
    "B = np.array([[9, 8, 7],\n",
    "                  [6, 5, 4],\n",
    "                  [3, 2, 1]])"
   ]
  },
  {
   "cell_type": "code",
   "execution_count": 23,
   "id": "c50ea846-01e0-43f5-9d39-bd5ba0b7e906",
   "metadata": {},
   "outputs": [
    {
     "data": {
      "text/plain": [
       "(array([[1, 2, 3],\n",
       "        [4, 5, 6],\n",
       "        [7, 8, 9]]),\n",
       " array([[9, 8, 7],\n",
       "        [6, 5, 4],\n",
       "        [3, 2, 1]]))"
      ]
     },
     "execution_count": 23,
     "metadata": {},
     "output_type": "execute_result"
    }
   ],
   "source": [
    "A,B"
   ]
  },
  {
   "cell_type": "code",
   "execution_count": 24,
   "id": "4ba09e51-54ee-4d1b-9c60-e7a2f1b35bad",
   "metadata": {},
   "outputs": [
    {
     "name": "stdout",
     "output_type": "stream",
     "text": [
      "(3, 3)\n",
      "9\n"
     ]
    }
   ],
   "source": [
    "#S#hape and size of A\n",
    "print(A.shape)   # (3, 3)\n",
    "print(A.size)    # 9\n"
   ]
  },
  {
   "cell_type": "code",
   "execution_count": 25,
   "id": "b9217ea8-4fc9-402c-8512-f49f93536535",
   "metadata": {},
   "outputs": [
    {
     "name": "stdout",
     "output_type": "stream",
     "text": [
      "[1 2 3]\n"
     ]
    }
   ],
   "source": [
    "#First row of A\n",
    "print(A[0])      # [1 2 3]\n"
   ]
  },
  {
   "cell_type": "code",
   "execution_count": 26,
   "id": "6a9eaeb1-00f1-4587-94d4-64a2e5c4440c",
   "metadata": {},
   "outputs": [
    {
     "data": {
      "text/plain": [
       "array([[1, 2, 3],\n",
       "       [4, 5, 6],\n",
       "       [7, 8, 9]])"
      ]
     },
     "execution_count": 26,
     "metadata": {},
     "output_type": "execute_result"
    }
   ],
   "source": [
    "A"
   ]
  },
  {
   "cell_type": "code",
   "execution_count": null,
   "id": "086e64f2-6eb9-4f19-98dc-e48f75f477f1",
   "metadata": {},
   "outputs": [],
   "source": [
    "#Second column of A\n",
    "print(A[:,1])    # [2 5 8]"
   ]
  },
  {
   "cell_type": "code",
   "execution_count": 27,
   "id": "a8232413-a70e-41a0-9ab0-33661a817062",
   "metadata": {},
   "outputs": [
    {
     "data": {
      "text/plain": [
       "array([[10, 10, 10],\n",
       "       [10, 10, 10],\n",
       "       [10, 10, 10]])"
      ]
     },
     "execution_count": 27,
     "metadata": {},
     "output_type": "execute_result"
    }
   ],
   "source": [
    "A + B"
   ]
  },
  {
   "cell_type": "code",
   "execution_count": 28,
   "id": "3259c6e2-9b04-4c0a-90d2-184911d43185",
   "metadata": {},
   "outputs": [
    {
     "data": {
      "text/plain": [
       "array([[-8, -6, -4],\n",
       "       [-2,  0,  2],\n",
       "       [ 4,  6,  8]])"
      ]
     },
     "execution_count": 28,
     "metadata": {},
     "output_type": "execute_result"
    }
   ],
   "source": [
    "A-B"
   ]
  },
  {
   "cell_type": "code",
   "execution_count": 29,
   "id": "bdfab7be-66bd-4630-8cc0-7d80058fc772",
   "metadata": {},
   "outputs": [
    {
     "data": {
      "text/plain": [
       "array([[ 9, 16, 21],\n",
       "       [24, 25, 24],\n",
       "       [21, 16,  9]])"
      ]
     },
     "execution_count": 29,
     "metadata": {},
     "output_type": "execute_result"
    }
   ],
   "source": [
    "A*B"
   ]
  },
  {
   "cell_type": "code",
   "execution_count": 30,
   "id": "debd672b-0981-4585-ab46-84b715afd816",
   "metadata": {},
   "outputs": [
    {
     "name": "stdout",
     "output_type": "stream",
     "text": [
      "[[1 2 3]\n",
      " [4 5 6]\n",
      " [7 8 9]]\n",
      "[[1 4 7]\n",
      " [2 5 8]\n",
      " [3 6 9]]\n"
     ]
    }
   ],
   "source": [
    "#Transpose of A\n",
    "print(A)\n",
    "print(A.T)"
   ]
  },
  {
   "cell_type": "code",
   "execution_count": null,
   "id": "124541bf-fcec-4350-a707-6fc6235959b0",
   "metadata": {},
   "outputs": [],
   "source": []
  },
  {
   "cell_type": "code",
   "execution_count": null,
   "id": "8f1b446e-1d77-4fd0-8327-2a69902ab2a5",
   "metadata": {},
   "outputs": [],
   "source": []
  },
  {
   "cell_type": "markdown",
   "id": "68e5b92f-a137-4011-92df-c819db18ab32",
   "metadata": {},
   "source": [
    "## keep in mind when you need true copy"
   ]
  },
  {
   "cell_type": "code",
   "execution_count": 31,
   "id": "c1d53eeb-0281-4c44-8419-d3ec859891ba",
   "metadata": {},
   "outputs": [],
   "source": [
    "c = a.reshape((3,2)).copy()"
   ]
  },
  {
   "cell_type": "code",
   "execution_count": 32,
   "id": "98b6654a-5287-4883-ab67-d5665da4c910",
   "metadata": {},
   "outputs": [],
   "source": [
    "c[0][0]=-99"
   ]
  },
  {
   "cell_type": "code",
   "execution_count": 33,
   "id": "d4143d9b-8cfb-4894-959d-ee82c6aa1d52",
   "metadata": {},
   "outputs": [
    {
     "data": {
      "text/plain": [
       "(array([ 0,  1, 77,  3,  4,  5]),\n",
       " array([[-99,   1],\n",
       "        [ 77,   3],\n",
       "        [  4,   5]]))"
      ]
     },
     "execution_count": 33,
     "metadata": {},
     "output_type": "execute_result"
    }
   ],
   "source": [
    "a,c # here c and a are totally independent copy"
   ]
  },
  {
   "cell_type": "markdown",
   "id": "d1f2d52d-6363-4079-ba0e-0ce46d15ac2b",
   "metadata": {},
   "source": [
    "## operations are propagated to the individual elements"
   ]
  },
  {
   "cell_type": "code",
   "execution_count": 34,
   "id": "93c4556a-c097-44f2-bb0d-e474847ecbd8",
   "metadata": {},
   "outputs": [
    {
     "data": {
      "text/plain": [
       "array([  0,   2, 154,   6,   8,  10])"
      ]
     },
     "execution_count": 34,
     "metadata": {},
     "output_type": "execute_result"
    }
   ],
   "source": [
    "a*2"
   ]
  },
  {
   "cell_type": "code",
   "execution_count": 35,
   "id": "637f809e-4a67-4d79-9a67-a996c888c897",
   "metadata": {},
   "outputs": [
    {
     "data": {
      "text/plain": [
       "array([   0,    1, 5929,    9,   16,   25])"
      ]
     },
     "execution_count": 35,
     "metadata": {},
     "output_type": "execute_result"
    }
   ],
   "source": [
    "a**2 #where as in list what will happend if we do [1,2,3,4,5]*2"
   ]
  },
  {
   "cell_type": "markdown",
   "id": "afc0672e-aa19-4b11-bcec-aba4faaaf3ce",
   "metadata": {},
   "source": [
    "## indexing power of numpy "
   ]
  },
  {
   "cell_type": "code",
   "execution_count": 37,
   "id": "02d866cb-219c-47dc-8adf-84b54602fa48",
   "metadata": {},
   "outputs": [
    {
     "data": {
      "text/plain": [
       "array([ 0,  1, 77,  3,  4,  5])"
      ]
     },
     "execution_count": 37,
     "metadata": {},
     "output_type": "execute_result"
    }
   ],
   "source": [
    "a"
   ]
  },
  {
   "cell_type": "code",
   "execution_count": 36,
   "id": "a8dd1b8b-9ea6-4c78-bdee-bbcd11b4961f",
   "metadata": {},
   "outputs": [
    {
     "data": {
      "text/plain": [
       "array([ 0, 77,  3])"
      ]
     },
     "execution_count": 36,
     "metadata": {},
     "output_type": "execute_result"
    }
   ],
   "source": [
    "a[np.array([0,2,3])]"
   ]
  },
  {
   "cell_type": "code",
   "execution_count": 38,
   "id": "62873c1d-b6eb-4379-b8a4-f07e66249ebf",
   "metadata": {},
   "outputs": [
    {
     "data": {
      "text/plain": [
       "array([False, False,  True, False, False,  True])"
      ]
     },
     "execution_count": 38,
     "metadata": {},
     "output_type": "execute_result"
    }
   ],
   "source": [
    "# in addition to fact that condition are now  propagated to the inndividual elements \n",
    "a>4"
   ]
  },
  {
   "cell_type": "code",
   "execution_count": 39,
   "id": "8304cad6-6903-40bd-a5d7-87815417c5ca",
   "metadata": {},
   "outputs": [
    {
     "data": {
      "text/plain": [
       "array([77,  5])"
      ]
     },
     "execution_count": 39,
     "metadata": {},
     "output_type": "execute_result"
    }
   ],
   "source": [
    "a[a>4]"
   ]
  },
  {
   "cell_type": "code",
   "execution_count": null,
   "id": "fe5425b4-7a7a-4aff-8cc5-9d36247c0637",
   "metadata": {},
   "outputs": [],
   "source": [
    "# this can also be used to trim outiers"
   ]
  },
  {
   "cell_type": "code",
   "execution_count": null,
   "id": "52d05f5f-7de2-4e15-a245-df1a27503b83",
   "metadata": {},
   "outputs": [],
   "source": [
    "a[a>4]=5\n",
    "a"
   ]
  },
  {
   "cell_type": "code",
   "execution_count": 40,
   "id": "7dc0d09c-b359-4b46-b737-e589c326be20",
   "metadata": {},
   "outputs": [
    {
     "name": "stdout",
     "output_type": "stream",
     "text": [
      "[10 11 12 13] [10 11 12 13 14 15 16 17 18 19 20 21 22 23 24 25 26 27 28 29 30 31 32 33\n",
      " 34 35 36 37 38 39 40 41 42 43 44 45 46 47 48 49]\n"
     ]
    }
   ],
   "source": [
    "arr = np.arange(10, 50)   # [10 11 12 13 14 15 16 17 18 19]\n",
    "# First 3 elements\n",
    "\n",
    "print(arr[0:4],arr)  "
   ]
  },
  {
   "cell_type": "code",
   "execution_count": 41,
   "id": "d34e2f16-8b3a-49d1-917e-ba2d5447117b",
   "metadata": {},
   "outputs": [
    {
     "name": "stdout",
     "output_type": "stream",
     "text": [
      "[48 49]\n"
     ]
    }
   ],
   "source": [
    "#Last 2 elements\n",
    "print(arr[-2:])  \n"
   ]
  },
  {
   "cell_type": "code",
   "execution_count": 42,
   "id": "90335475-1584-4e4c-874e-0542ec1a95bf",
   "metadata": {},
   "outputs": [
    {
     "name": "stdout",
     "output_type": "stream",
     "text": [
      "[10 13 16 19 22 25 28 31 34 37 40 43 46 49]\n"
     ]
    }
   ],
   "source": [
    "#Every second element\n",
    "print(arr[::3]) "
   ]
  },
  {
   "cell_type": "code",
   "execution_count": 43,
   "id": "26c30da1-ba37-4aff-8170-6e7902545afe",
   "metadata": {},
   "outputs": [
    {
     "name": "stdout",
     "output_type": "stream",
     "text": [
      "[49 47 45 43 41 39 37 35 33 31 29 27 25 23 21 19 17 15 13 11]\n"
     ]
    }
   ],
   "source": [
    "#Reverse the array\n",
    "print(arr[::-2]) # [19 18 17 16 15 14 13 12 11 10]\n"
   ]
  },
  {
   "cell_type": "code",
   "execution_count": 44,
   "id": "380957f6-a2f3-4a77-bb66-8cbc4916c3e8",
   "metadata": {},
   "outputs": [
    {
     "name": "stdout",
     "output_type": "stream",
     "text": [
      "[ 10  11 100  13  14  15  16  17  18  19  20  21  22  23  24  25  26  27\n",
      "  28  29  30  31  32  33  34  35  36  37  38  39  40  41  42  43  44  45\n",
      "  46  47  48  49]\n"
     ]
    }
   ],
   "source": [
    "#Change value at index 2 to 100\n",
    "arr[2] = 100\n",
    "print(arr)"
   ]
  },
  {
   "cell_type": "code",
   "execution_count": 45,
   "id": "589a86cb-6033-40b5-a178-46e8af686349",
   "metadata": {},
   "outputs": [
    {
     "name": "stdout",
     "output_type": "stream",
     "text": [
      "[100  16  17  18  19  20  21  22  23  24  25  26  27  28  29  30  31  32\n",
      "  33  34  35  36  37  38  39  40  41  42  43  44  45  46  47  48  49]\n"
     ]
    }
   ],
   "source": [
    "#Select elements greater than 15\n",
    "print(arr[arr > 15])  "
   ]
  },
  {
   "cell_type": "markdown",
   "id": "924a4b24-1761-4545-9c1b-9792b155812d",
   "metadata": {},
   "source": [
    "## Question"
   ]
  },
  {
   "cell_type": "code",
   "execution_count": 48,
   "id": "9a37de29-5727-43b8-90c6-1edea57250b7",
   "metadata": {},
   "outputs": [
    {
     "data": {
      "text/plain": [
       "np.int64(6)"
      ]
     },
     "execution_count": 48,
     "metadata": {},
     "output_type": "execute_result"
    }
   ],
   "source": [
    "#Extract a single element: From a 2D array, select the element at row 1, column 2.\n",
    "a=np.array([[1, 2, 3], [4, 5, 6], [7, 8, 9]])\n",
    "a[1, 2]"
   ]
  },
  {
   "cell_type": "code",
   "execution_count": 49,
   "id": "8fa3ebf2-cb7f-4da4-b977-e46d57bdd197",
   "metadata": {},
   "outputs": [
    {
     "data": {
      "text/plain": [
       "array([[1, 2, 3],\n",
       "       [4, 5, 6],\n",
       "       [7, 8, 9]])"
      ]
     },
     "execution_count": 49,
     "metadata": {},
     "output_type": "execute_result"
    }
   ],
   "source": [
    "a"
   ]
  },
  {
   "cell_type": "code",
   "execution_count": 50,
   "id": "bcdeeafb-d393-466f-818d-e769f28f2566",
   "metadata": {},
   "outputs": [
    {
     "data": {
      "text/plain": [
       "(array([4, 5, 6]), array([4, 5, 6]), array([4, 5, 6]))"
      ]
     },
     "execution_count": 50,
     "metadata": {},
     "output_type": "execute_result"
    }
   ],
   "source": [
    "#Extract a row: From a 2D array, select the second row.\n",
    "a[1], a[-2], a[1, :]"
   ]
  },
  {
   "cell_type": "code",
   "execution_count": 51,
   "id": "264e0b07-5114-46ab-b50b-5f11c0cc70e9",
   "metadata": {},
   "outputs": [
    {
     "data": {
      "text/plain": [
       "(array([3, 6, 9]),\n",
       " array([3, 6, 9]),\n",
       " array([[3],\n",
       "        [6],\n",
       "        [9]]))"
      ]
     },
     "execution_count": 51,
     "metadata": {},
     "output_type": "execute_result"
    }
   ],
   "source": [
    "# Extract a column: From a 2D array, select the third column.\n",
    "a[:,2], a[0:3,2], a[0:3,2:3]"
   ]
  },
  {
   "cell_type": "code",
   "execution_count": null,
   "id": "8711eced-065e-48ca-9ece-2d43415af18c",
   "metadata": {},
   "outputs": [],
   "source": [
    " #Extract a sub-array (slicing): From a 2D array, select the sub-array consisting of the first two rows and the last two columns."
   ]
  },
  {
   "cell_type": "code",
   "execution_count": null,
   "id": "d23fe954-2f3e-4e70-a77f-b66f66fb2ef2",
   "metadata": {},
   "outputs": [],
   "source": [
    "a[:2,1:3]"
   ]
  },
  {
   "cell_type": "markdown",
   "id": "6438c210-d96c-413a-a46f-06f7959e17a3",
   "metadata": {},
   "source": [
    "##10 Basic Indexing Exercises for NumPy\n",
    "\n",
    "    Extract a single element: From a 2D array, select the element at row 1, column 2.\n",
    "\n",
    "        Array: np.array([[1, 2, 3], [4, 5, 6], [7, 8, 9]])\n",
    "\n",
    "        Expected Output: 6\n",
    "\n",
    "    Extract a row: From a 2D array, select the second row.\n",
    "\n",
    "        Array: np.array([[1, 2, 3], [4, 5, 6], [7, 8, 9]])\n",
    "\n",
    "        Expected Output: [4, 5, 6]\n",
    "\n",
    "    Extract a column: From a 2D array, select the third column.\n",
    "\n",
    "        Array: np.array([[1, 2, 3], [4, 5, 6], [7, 8, 9]])\n",
    "\n",
    "        Expected Output: [3, 6, 9]\n",
    "\n",
    "    Extract a sub-array (slicing): From a 2D array, select the sub-array consisting of the first two rows and the last two columns.\n",
    "\n",
    "        Array: np.array([[1, 2, 3, 4], [5, 6, 7, 8], [9, 10, 11, 12]])\n",
    "\n",
    "        Expected Output: [[3, 4], [7, 8]]\n",
    "\n",
    "    Use negative indexing: From a 1D array, select the second to last element.\n",
    "\n",
    "        Array: np.array([10, 20, 30, 40, 50])\n",
    "\n",
    "        Expected Output: 40\n",
    "\n",
    "    Use a boolean mask: From a 1D array, select all elements that are greater than 5.\n",
    "\n",
    "        Array: np.array([2, 8, 1, 6, 9, 3])\n",
    "\n",
    "        Expected Output: [8, 6, 9]\n",
    "\n",
    "    Select multiple non-consecutive elements: From a 1D array, select the elements at indices 0, 3, and 4.\n",
    "\n",
    "        Array: np.array([10, 20, 30, 40, 50, 60])\n",
    "\n",
    "        Expected Output: [10, 40, 50]\n",
    "\n",
    "    Assign a new value to a slice: Change the values of the last two elements in a 1D array to 99.\n",
    "\n",
    "        Array: np.array([1, 2, 3, 4, 5])\n",
    "\n",
    "        Expected Output: [1, 2, 3, 99, 99]\n",
    "\n",
    "    Select elements based on a condition in a 2D array: Select all elements from a 2D array that are even.\n",
    "\n",
    "        Array: np.array([[1, 2, 3], [4, 5, 6], [7, 8, 9]])\n",
    "\n",
    "        Expected Output: [2, 4, 6, 8]\n",
    "\n",
    "    Extract elements from specific rows and columns: From a 2D array, select the elements at (0, 0), (1, 1), and (2, 2).\n",
    "\n",
    "        Array: np.array([[1, 2, 3], [4, 5, 6], [7, 8, 9]])\n",
    "\n",
    "        Expected Output: [1, 5, 9]"
   ]
  },
  {
   "cell_type": "markdown",
   "id": "9898452a-156c-46f1-864f-3616730d8645",
   "metadata": {},
   "source": [
    "## solutions \n",
    "\n",
    "Solutions to NumPy Indexing Exercises\n",
    "\n",
    "    Extract a single element: arr[1, 2]\n",
    "\n",
    "    Extract a row: arr[1, :] or simply arr[1]\n",
    "\n",
    "    Extract a column: arr[:, 2]\n",
    "\n",
    "    Extract a sub-array (slicing): arr[:2, 2:]\n",
    "\n",
    "    Use negative indexing: arr[-2]\n",
    "\n",
    "    Use a boolean mask: arr[arr > 5]\n",
    "\n",
    "    Select multiple non-consecutive elements: arr[[0, 3, 4]]\n",
    "\n",
    "    Assign a new value to a slice: arr[-2:] = 99\n",
    "\n",
    "    Select elements based on a condition in a 2D array: arr[arr % 2 == 0]\n",
    "\n",
    "    Extract elements from specific rows and columns: arr[[0, 1, 2], [0, 1, 2]]"
   ]
  },
  {
   "cell_type": "code",
   "execution_count": null,
   "id": "663023ad-e5d8-4bd5-a908-d21b490fc7dc",
   "metadata": {},
   "outputs": [],
   "source": []
  },
  {
   "cell_type": "markdown",
   "id": "5f91d176-3ba0-40dd-a592-ce3106441e64",
   "metadata": {},
   "source": [
    "## Create a 5×5 matrix with values 1,2,3,…,25 and reshape it to 25×1\n",
    "## Generate an array of 100 random numbers between -10 and 10. Replace all negative values with 0.\n",
    "\n",
    "## Create a 10×10 matrix where the border elements are 1 and the inside elements are 0.\n",
    "\n",
    "## Create a checkerboard pattern (8×8) using only NumPy slicing.\n",
    "\n",
    "\n",
    "## Normalize a random 1D array of size 10 so that its sum equals 1.\n"
   ]
  },
  {
   "cell_type": "code",
   "execution_count": 62,
   "id": "83959a0c-270e-4344-9512-27bc744bcd14",
   "metadata": {
    "scrolled": true
   },
   "outputs": [
    {
     "name": "stdout",
     "output_type": "stream",
     "text": [
      "[[1. 1. 1. 1. 1. 1. 1. 1. 1. 1.]\n",
      " [1. 0. 0. 0. 0. 0. 0. 0. 0. 1.]\n",
      " [1. 0. 0. 0. 0. 0. 0. 0. 0. 1.]\n",
      " [1. 0. 0. 0. 0. 0. 0. 0. 0. 1.]\n",
      " [1. 0. 0. 0. 0. 0. 0. 0. 0. 1.]\n",
      " [1. 0. 0. 0. 0. 0. 0. 0. 0. 1.]\n",
      " [1. 0. 0. 0. 0. 0. 0. 0. 0. 1.]\n",
      " [1. 0. 0. 0. 0. 0. 0. 0. 0. 1.]\n",
      " [1. 0. 0. 0. 0. 0. 0. 0. 0. 1.]\n",
      " [1. 1. 1. 1. 1. 1. 1. 1. 1. 1.]]\n"
     ]
    }
   ],
   "source": [
    "#arr = np.arange(1, 26)\n",
    "#matrix_5X5= arr[:27].reshape(5,5)\n",
    "#matrix_5X5\n",
    "\n",
    "#matrix_5x5=matrix_5X5.reshape(1,25)\n",
    "#matrix_5x5\n",
    "#\n",
    "#Generate 100 random numbers between -10 and 10, replace negatives with 0\n",
    "\n",
    "#rand_arr = np.random.randint(-10, 11, 100)\n",
    "#print(rand_arr)\n",
    "#rand_arr[rand_arr < 0] = 0\n",
    "#print(rand_arr)\n",
    "\n",
    "\n",
    "#Create a 10×10 matrix with border = 1, inside = 0\n",
    "\n",
    "mat = np.ones((10,10))\n",
    "mat\n",
    "mat[1:-1, 1:-1] = 0\n",
    "print(mat)\n",
    "#arr[1:-1] excludes the first and last elements.So in 2D:\n",
    "#mat[1:-1, 1:-1] means:\n",
    "#Rows from index 1 to -2 (skip first & last row).\n",
    "#Columns from index 1 to -2 (skip first & last column)"
   ]
  },
  {
   "cell_type": "code",
   "execution_count": 67,
   "id": "13cd416e-864e-45f2-bc74-53feebf03365",
   "metadata": {},
   "outputs": [
    {
     "name": "stdout",
     "output_type": "stream",
     "text": [
      "[[0 1 0 1 0 1 0 1]\n",
      " [1 0 1 0 1 0 1 0]\n",
      " [0 1 0 1 0 1 0 1]\n",
      " [1 0 1 0 1 0 1 0]\n",
      " [0 1 0 1 0 1 0 1]\n",
      " [1 0 1 0 1 0 1 0]\n",
      " [0 1 0 1 0 1 0 1]\n",
      " [1 0 1 0 1 0 1 0]]\n"
     ]
    }
   ],
   "source": [
    "#Checkerboard pattern (8×8)\n",
    "checker = np.zeros((8,8), dtype=int)\n",
    "checker[1::2, ::2] = 1\n",
    "checker[::2, 1::2] = 1\n",
    "print(checker)\n"
   ]
  },
  {
   "cell_type": "code",
   "execution_count": 74,
   "id": "81fa370f-c631-4da7-8e87-bee45997fe83",
   "metadata": {},
   "outputs": [
    {
     "name": "stdout",
     "output_type": "stream",
     "text": [
      "[0.05289147 0.16948408 0.03074029 0.19577782 0.08278641 0.03118432\n",
      " 0.18199411 0.02525468 0.19070892 0.03917791] 1.0000000000000002\n"
     ]
    }
   ],
   "source": [
    "arr = np.random.rand(10)\n",
    "#arr*10\n",
    "n = arr / arr.sum()\n",
    "print(n, n.sum())"
   ]
  },
  {
   "cell_type": "code",
   "execution_count": null,
   "id": "cdf67880-8ae3-48b1-87fb-8d268700a815",
   "metadata": {},
   "outputs": [],
   "source": [
    "#Indexing & Slicing (7 exercises)\n",
    "arr = np.arange(1, 26).reshape(5, 5)\n",
    "    # [[ 1  2  3  4  5]\n",
    "    #  [ 6  7  8  9 10]\n",
    "    #  [11 12 13 14 15]\n",
    "    #  [16 17 18 19 20]\n",
    "    #  [21 22 23 24 25]]\n",
    "\n",
    "arr"
   ]
  },
  {
   "cell_type": "code",
   "execution_count": null,
   "id": "6018420e-0dde-471d-aa35-8fe58b5d17a4",
   "metadata": {},
   "outputs": [],
   "source": [
    "#Middle 3×3 submatrix\n",
    "print(arr[1:4, 1:4])\n"
   ]
  },
  {
   "cell_type": "code",
   "execution_count": null,
   "id": "1bdf78aa-3ff2-4d75-8852-164c507fe034",
   "metadata": {},
   "outputs": [],
   "source": [
    "#Reverse rows\n",
    "print(arr[::-1, :])"
   ]
  },
  {
   "cell_type": "code",
   "execution_count": null,
   "id": "f1dc3648-3a4d-4099-8341-2e236c5a27da",
   "metadata": {},
   "outputs": [],
   "source": [
    "#Reverse columns\n",
    "print(arr[:, ::-1])"
   ]
  },
  {
   "cell_type": "code",
   "execution_count": null,
   "id": "f3094165-ffaa-4bfc-8059-c88ccbeb0195",
   "metadata": {},
   "outputs": [],
   "source": [
    "#Every second element of last row\n",
    "print(arr[-1, ::2])   # [21 23 25]"
   ]
  },
  {
   "cell_type": "code",
   "execution_count": null,
   "id": "f41f3641-99f6-4411-83a1-5dc960932fe5",
   "metadata": {},
   "outputs": [],
   "source": [
    "#All corner elements\n",
    "corners = [arr[0,0], arr[0,-1], arr[-1,0], arr[-1,-1]]\n",
    "print(corners)"
   ]
  },
  {
   "cell_type": "code",
   "execution_count": null,
   "id": "77e43000-6631-47c2-98cd-60e0d542d232",
   "metadata": {},
   "outputs": [],
   "source": [
    "#Advanced Array Indexing \n",
    "arr = np.array([[5, 2, 9],\n",
    "                    [1, 7, 3],\n",
    "                    [8, 4, 6]])"
   ]
  },
  {
   "cell_type": "code",
   "execution_count": null,
   "id": "2a12d686-430e-4d61-bba1-4294753238dd",
   "metadata": {},
   "outputs": [],
   "source": [
    "#Extract elements (0,2), (1,1), (2,0)\n",
    "print(arr[(0,1,2), (2,1,0)])   # [9 7 8]\n"
   ]
  },
  {
   "cell_type": "code",
   "execution_count": null,
   "id": "93242bb7-93a3-404e-994a-3eb563bd6c3f",
   "metadata": {},
   "outputs": [],
   "source": [
    "#Replace even numbers with -1\n",
    "arr_even = arr.copy()\n",
    "arr_even[arr_even % 2 == 0] = -1\n",
    "print(arr_even)"
   ]
  },
  {
   "cell_type": "markdown",
   "id": "9dc7aa00-28e8-4156-83e1-8fe4df653714",
   "metadata": {},
   "source": [
    "## pandas data frame excersie "
   ]
  },
  {
   "cell_type": "code",
   "execution_count": 3,
   "id": "1baf68ac-e7c3-4af0-b595-5527bf593200",
   "metadata": {},
   "outputs": [
    {
     "name": "stdout",
     "output_type": "stream",
     "text": [
      "      Name  Age\n",
      "0    Alice   25\n",
      "1      Bob   30\n",
      "2  Charlie   35\n",
      "3      Ami    1\n"
     ]
    },
    {
     "data": {
      "text/plain": [
       "\"\\n#2. Display first 5 rows of a DataFrame\\nprint(df.head())\\n# Explanation: head() shows the first 5 rows by default.\\n\\n#3. Display last 3 rows of a DataFrame\\nprint(df.tail(3))\\n# Explanation: tail() shows the last 3 rows.\\n\\n#4. Get DataFrame information\\nprint(df.info())\\n# Explanation: info() shows column types, non-null counts, and memory usage.\\n\\n#5. Get statistical summary\\nprint(df.describe())\\n# Explanation: describe() gives mean, std, min, max, etc. for numeric columns.\\n\\n#6. Show column names\\nprint(df.columns)\\n# Explanation: columns attribute lists all column names.\\n\\n#7. Show index\\nprint(df.index)\\n# Explanation: index attribute shows row labels.\\n\\n#8. Select a single column\\nprint(df['Name'])\\n# Explanation: Accessing column as Series.\\n\\n#9. Select multiple columns\\nprint(df[['Name', 'Age']])\\n# Explanation: Accessing multiple columns as DataFrame.\\n\\n#10. Select a row by index using loc\\nprint(df.loc[0])\\n# Explanation: loc selects by label/index.\\n\\n#-#-- INTERMEDIATE LEVEL ---\\n\\n#11. Select a row by integer position using iloc\\nprint(df.iloc[1])\\n# Explanation: iloc selects by row number (0-based).\\n\\n#12. Filter rows with condition\\nprint(df[df['Age'] > 28])\\n# Explanation: Shows rows where Age > 28.\\n\\n#13. Add a new column\\ndf['Country'] = ['USA', 'UK', 'India']\\nprint(df)\\n# Explanation: Creates new column 'Country'.\\n\\n#14. Drop a column\\ndf = df.drop('Country', axis=1)\\nprint(df)\\n# Explanation: drop(axis=1) removes column.\\n\\n#15. Drop a row\\ndf = df.drop(0)\\nprint(df)\\n# Explanation: drop(0) removes row with index 0.\\n\\n#16. Rename columns\\ndf = df.rename(columns={'Name': 'FullName'})\\nprint(df)\\n# Explanation: rename() updates column names.\\n\\n#17. Reset index\\ndf = df.reset_index(drop=True)\\nprint(df)\\n# Explanation: reset_index() reorders index from 0.\\n\\n#18. Sort by column\\nprint(df.sort_values(by='Age'))\\n# Explanation: sort_values() sorts rows by 'Age'.\\n\\n#19. Sort by multiple columns\\nprint(df.sort_values(by=['Age', 'FullName']))\\n# Explanation: Sort by Age first, then FullName.\\n\\n#20. Change data type\\ndf['Age'] = df['Age'].astype(float)\\nprint(df.dtypes)\\n# Explanation: Converts Age to float.\\n\\n#--- DATA ANALYSIS ---\\n\\n#21. Group by column\\nprint(df.groupby('FullName')['Age'].mean())\\n# Explanation: Groups by FullName and computes mean age.\\n\\n#22. Aggregate multiple functions\\nprint(df.agg({'Age': ['min', 'max', 'mean']}))\\n# Explanation: agg() applies multiple aggregations.\\n\\n#23. Value counts\\nprint(df['Age'].value_counts())\\n# Explanation: Counts frequency of each Age.\\n\\n#24. Unique values\\nprint(df['Age'].unique())\\n# Explanation: Shows unique values in Age.\\n\\n#25. Fill missing values\\ndf['Age'].fillna(df['Age'].mean(), inplace=True)\\n# Explanation: Replaces NaN with mean Age.\\n\\n#26. Drop missing values\\ndf.dropna(inplace=True)\\n# Explanation: Removes rows with NaN values.\\n\\n#27. Check for null values\\nprint(df.isnull().sum())\\n# Explanation: Counts null values in each column.\\n\\n#28. Replace values\\ndf['FullName'] = df['FullName'].replace('Alice', 'Alicia')\\nprint(df)\\n# Explanation: Replaces Alice with Alicia.\\n\\n#29. Apply custom function\\ndf['Age_plus_5'] = df['Age'].apply(lambda x: x + 5)\\nprint(df)\\n# Explanation: Adds 5 to each Age.\\n\\n#30. Apply condition with np.where\\nimport numpy as np\\ndf['Senior'] = np.where(df['Age'] > 30, 'Yes', 'No')\\nprint(df)\\n# Explanation: Creates new column based on condition.\\n\\n#--- MERGING & JOINING ---\\n\\n#31. Concatenate DataFrames\\ndf2 = pd.DataFrame({'FullName': ['David'], 'Age': [40]})\\ndf_concat = pd.concat([df, df2])\\nprint(df_concat)\\n# Explanation: concat() stacks DataFrames.\\n\\n#32. Merge DataFrames (inner join)\\ndf_dept = pd.DataFrame({'FullName': ['Bob', 'Charlie'], 'Dept': ['IT', 'HR']})\\ndf_merge = pd.merge(df, df_dept, on='FullName', how='inner')\\nprint(df_merge)\\n# Explanation: merge() joins on column FullName.\\n\\n#33. Left join\\ndf_left = pd.merge(df, df_dept, on='FullName', how='left')\\nprint(df_left)\\n# Explanation: Keeps all rows from left DataFrame.\\n\\n#34. Right join\\ndf_right = pd.merge(df, df_dept, on='FullName', how='right')\\nprint(df_right)\\n# Explanation: Keeps all rows from right DataFrame.\\n\\n#35. Outer join\\ndf_outer = pd.merge(df, df_dept, on='FullName', how='outer')\\nprint(df_outer)\\n# Explanation: Keeps all rows from both DataFrames.\\n\\n#36. Join on index\\ndf_join = df.join(df_dept.set_index('FullName'), on='FullName')\\nprint(df_join)\\n# Explanation: join() joins on index.\\n\\n#--- ADVANCED ---\\n\\n#37. Pivot table\\nprint(pd.pivot_table(df, values='Age', index='Senior', aggfunc='mean'))\\n# Explanation: Pivot summarises data.\\n\\n#38. Crosstab\\nprint(pd.crosstab(df['Senior'], df['Age']))\\n# Explanation: Crosstab shows frequency table.\\n\\n39. Melt DataFrame\\ndf_melt = pd.melt(df, id_vars=['FullName'], value_vars=['Age', 'Senior'])\\nprint(df_melt)\\n# Explanation: melt() unpivots DataFrame.\\n\\n#40. Stack\\nprint(df.stack())\\n# Explanation: Converts columns into rows.\\n\\n#41. Unstack\\nprint(df.stack().unstack())\\n# Explanation: Reverses stack() operation.\\n\\n#42. MultiIndex DataFrame\\narrays = [['A', 'A', 'B', 'B'], [1, 2, 1, 2]]\\nindex = pd.MultiIndex.from_arrays(arrays, names=('Letter', 'Number'))\\ndf_multi = pd.DataFrame({'Value': [10, 20, 30, 40]}, index=index)\\nprint(df_multi)\\n# Explanation: MultiIndex allows hierarchical indexing.\\n\\n#43. Access data in MultiIndex\\nprint(df_multi.loc['A'])\\n# Explanation: Selects rows where Letter = A.\\n\\n#44. Resample time series data\\ndate_rng = pd.date_range('2023-01-01', periods=6, freq='D')\\nts = pd.DataFrame({'value': [10, 20, 30, 40, 50, 60]}, index=date_rng)\\nprint(ts.resample('2D').mean())\\n# Explanation: Resamples into 2-day frequency.\\n\\n#45. Rolling window calculation\\nprint(ts.rolling(window=3).mean())\\n# Explanation: Rolling mean of last 3 days.\\n\\n#--- EXPERT LEVEL ---\\n\\n#46. Apply custom function row-wise\\ndf['Name_Length'] = df['FullName'].apply(len)\\nprint(df)\\n# Explanation: Applies len() function to each row.\\n\\n#47. Map values\\ndf['Senior'] = df['Senior'].map({'Yes': 1, 'No': 0})\\nprint(df)\\n# Explanation: Maps categorical values to numeric.\\n\\n#48. One-hot encoding\\ndf_encoded = pd.get_dummies(df, columns=['Senior'])\\nprint(df_encoded)\\n# Explanation: Creates dummy columns for categories.\\n\\n#49. Group by multiple columns\\nprint(df.groupby(['Senior', 'Age']).size())\\n# Explanation: Groups by Senior and Age.\\n\\n#50. Save DataFrame to CSV\\ndf.to_csv('students.csv', index=False)\\n# Explanation: Exports DataFrame to a CSV file. \""
      ]
     },
     "execution_count": 3,
     "metadata": {},
     "output_type": "execute_result"
    }
   ],
   "source": [
    "\n",
    "\n",
    "#1. Create a simple DataFrame from a dictionary\n",
    "import pandas as pd\n",
    "data = {'Name': ['Alice', 'Bob', 'Charlie','Ami'], 'Age': [25, 30, 35,1]}\n",
    "df = pd.DataFrame(data)\n",
    "print(df)\n",
    "# Explanation: This creates a DataFrame with 2 columns and 3 rows.\n",
    "\"\"\"\n",
    "#2. Display first 5 rows of a DataFrame\n",
    "print(df.head())\n",
    "# Explanation: head() shows the first 5 rows by default.\n",
    "\n",
    "#3. Display last 3 rows of a DataFrame\n",
    "print(df.tail(3))\n",
    "# Explanation: tail() shows the last 3 rows.\n",
    "\n",
    "#4. Get DataFrame information\n",
    "print(df.info())\n",
    "# Explanation: info() shows column types, non-null counts, and memory usage.\n",
    "\n",
    "#5. Get statistical summary\n",
    "print(df.describe())\n",
    "# Explanation: describe() gives mean, std, min, max, etc. for numeric columns.\n",
    "\n",
    "#6. Show column names\n",
    "print(df.columns)\n",
    "# Explanation: columns attribute lists all column names.\n",
    "\n",
    "#7. Show index\n",
    "print(df.index)\n",
    "# Explanation: index attribute shows row labels.\n",
    "\n",
    "#8. Select a single column\n",
    "print(df['Name'])\n",
    "# Explanation: Accessing column as Series.\n",
    "\n",
    "#9. Select multiple columns\n",
    "print(df[['Name', 'Age']])\n",
    "# Explanation: Accessing multiple columns as DataFrame.\n",
    "\n",
    "#10. Select a row by index using loc\n",
    "print(df.loc[0])\n",
    "# Explanation: loc selects by label/index.\n",
    "\n",
    "#-#-- INTERMEDIATE LEVEL ---\n",
    "\n",
    "#11. Select a row by integer position using iloc\n",
    "print(df.iloc[1])\n",
    "# Explanation: iloc selects by row number (0-based).\n",
    "\n",
    "#12. Filter rows with condition\n",
    "print(df[df['Age'] > 28])\n",
    "# Explanation: Shows rows where Age > 28.\n",
    "\n",
    "#13. Add a new column\n",
    "df['Country'] = ['USA', 'UK', 'India']\n",
    "print(df)\n",
    "# Explanation: Creates new column 'Country'.\n",
    "\n",
    "#14. Drop a column\n",
    "df = df.drop('Country', axis=1)\n",
    "print(df)\n",
    "# Explanation: drop(axis=1) removes column.\n",
    "\n",
    "#15. Drop a row\n",
    "df = df.drop(0)\n",
    "print(df)\n",
    "# Explanation: drop(0) removes row with index 0.\n",
    "\n",
    "#16. Rename columns\n",
    "df = df.rename(columns={'Name': 'FullName'})\n",
    "print(df)\n",
    "# Explanation: rename() updates column names.\n",
    "\n",
    "#17. Reset index\n",
    "df = df.reset_index(drop=True)\n",
    "print(df)\n",
    "# Explanation: reset_index() reorders index from 0.\n",
    "\n",
    "#18. Sort by column\n",
    "print(df.sort_values(by='Age'))\n",
    "# Explanation: sort_values() sorts rows by 'Age'.\n",
    "\n",
    "#19. Sort by multiple columns\n",
    "print(df.sort_values(by=['Age', 'FullName']))\n",
    "# Explanation: Sort by Age first, then FullName.\n",
    "\n",
    "#20. Change data type\n",
    "df['Age'] = df['Age'].astype(float)\n",
    "print(df.dtypes)\n",
    "# Explanation: Converts Age to float.\n",
    "\n",
    "#--- DATA ANALYSIS ---\n",
    "\n",
    "#21. Group by column\n",
    "print(df.groupby('FullName')['Age'].mean())\n",
    "# Explanation: Groups by FullName and computes mean age.\n",
    "\n",
    "#22. Aggregate multiple functions\n",
    "print(df.agg({'Age': ['min', 'max', 'mean']}))\n",
    "# Explanation: agg() applies multiple aggregations.\n",
    "\n",
    "#23. Value counts\n",
    "print(df['Age'].value_counts())\n",
    "# Explanation: Counts frequency of each Age.\n",
    "\n",
    "#24. Unique values\n",
    "print(df['Age'].unique())\n",
    "# Explanation: Shows unique values in Age.\n",
    "\n",
    "#25. Fill missing values\n",
    "df['Age'].fillna(df['Age'].mean(), inplace=True)\n",
    "# Explanation: Replaces NaN with mean Age.\n",
    "\n",
    "#26. Drop missing values\n",
    "df.dropna(inplace=True)\n",
    "# Explanation: Removes rows with NaN values.\n",
    "\n",
    "#27. Check for null values\n",
    "print(df.isnull().sum())\n",
    "# Explanation: Counts null values in each column.\n",
    "\n",
    "#28. Replace values\n",
    "df['FullName'] = df['FullName'].replace('Alice', 'Alicia')\n",
    "print(df)\n",
    "# Explanation: Replaces Alice with Alicia.\n",
    "\n",
    "#29. Apply custom function\n",
    "df['Age_plus_5'] = df['Age'].apply(lambda x: x + 5)\n",
    "print(df)\n",
    "# Explanation: Adds 5 to each Age.\n",
    "\n",
    "#30. Apply condition with np.where\n",
    "import numpy as np\n",
    "df['Senior'] = np.where(df['Age'] > 30, 'Yes', 'No')\n",
    "print(df)\n",
    "# Explanation: Creates new column based on condition.\n",
    "\n",
    "#--- MERGING & JOINING ---\n",
    "\n",
    "#31. Concatenate DataFrames\n",
    "df2 = pd.DataFrame({'FullName': ['David'], 'Age': [40]})\n",
    "df_concat = pd.concat([df, df2])\n",
    "print(df_concat)\n",
    "# Explanation: concat() stacks DataFrames.\n",
    "\n",
    "#32. Merge DataFrames (inner join)\n",
    "df_dept = pd.DataFrame({'FullName': ['Bob', 'Charlie'], 'Dept': ['IT', 'HR']})\n",
    "df_merge = pd.merge(df, df_dept, on='FullName', how='inner')\n",
    "print(df_merge)\n",
    "# Explanation: merge() joins on column FullName.\n",
    "\n",
    "#33. Left join\n",
    "df_left = pd.merge(df, df_dept, on='FullName', how='left')\n",
    "print(df_left)\n",
    "# Explanation: Keeps all rows from left DataFrame.\n",
    "\n",
    "#34. Right join\n",
    "df_right = pd.merge(df, df_dept, on='FullName', how='right')\n",
    "print(df_right)\n",
    "# Explanation: Keeps all rows from right DataFrame.\n",
    "\n",
    "#35. Outer join\n",
    "df_outer = pd.merge(df, df_dept, on='FullName', how='outer')\n",
    "print(df_outer)\n",
    "# Explanation: Keeps all rows from both DataFrames.\n",
    "\n",
    "#36. Join on index\n",
    "df_join = df.join(df_dept.set_index('FullName'), on='FullName')\n",
    "print(df_join)\n",
    "# Explanation: join() joins on index.\n",
    "\n",
    "#--- ADVANCED ---\n",
    "\n",
    "#37. Pivot table\n",
    "print(pd.pivot_table(df, values='Age', index='Senior', aggfunc='mean'))\n",
    "# Explanation: Pivot summarises data.\n",
    "\n",
    "#38. Crosstab\n",
    "print(pd.crosstab(df['Senior'], df['Age']))\n",
    "# Explanation: Crosstab shows frequency table.\n",
    "\n",
    "39. Melt DataFrame\n",
    "df_melt = pd.melt(df, id_vars=['FullName'], value_vars=['Age', 'Senior'])\n",
    "print(df_melt)\n",
    "# Explanation: melt() unpivots DataFrame.\n",
    "\n",
    "#40. Stack\n",
    "print(df.stack())\n",
    "# Explanation: Converts columns into rows.\n",
    "\n",
    "#41. Unstack\n",
    "print(df.stack().unstack())\n",
    "# Explanation: Reverses stack() operation.\n",
    "\n",
    "#42. MultiIndex DataFrame\n",
    "arrays = [['A', 'A', 'B', 'B'], [1, 2, 1, 2]]\n",
    "index = pd.MultiIndex.from_arrays(arrays, names=('Letter', 'Number'))\n",
    "df_multi = pd.DataFrame({'Value': [10, 20, 30, 40]}, index=index)\n",
    "print(df_multi)\n",
    "# Explanation: MultiIndex allows hierarchical indexing.\n",
    "\n",
    "#43. Access data in MultiIndex\n",
    "print(df_multi.loc['A'])\n",
    "# Explanation: Selects rows where Letter = A.\n",
    "\n",
    "#44. Resample time series data\n",
    "date_rng = pd.date_range('2023-01-01', periods=6, freq='D')\n",
    "ts = pd.DataFrame({'value': [10, 20, 30, 40, 50, 60]}, index=date_rng)\n",
    "print(ts.resample('2D').mean())\n",
    "# Explanation: Resamples into 2-day frequency.\n",
    "\n",
    "#45. Rolling window calculation\n",
    "print(ts.rolling(window=3).mean())\n",
    "# Explanation: Rolling mean of last 3 days.\n",
    "\n",
    "#--- EXPERT LEVEL ---\n",
    "\n",
    "#46. Apply custom function row-wise\n",
    "df['Name_Length'] = df['FullName'].apply(len)\n",
    "print(df)\n",
    "# Explanation: Applies len() function to each row.\n",
    "\n",
    "#47. Map values\n",
    "df['Senior'] = df['Senior'].map({'Yes': 1, 'No': 0})\n",
    "print(df)\n",
    "# Explanation: Maps categorical values to numeric.\n",
    "\n",
    "#48. One-hot encoding\n",
    "df_encoded = pd.get_dummies(df, columns=['Senior'])\n",
    "print(df_encoded)\n",
    "# Explanation: Creates dummy columns for categories.\n",
    "\n",
    "#49. Group by multiple columns\n",
    "print(df.groupby(['Senior', 'Age']).size())\n",
    "# Explanation: Groups by Senior and Age.\n",
    "\n",
    "#50. Save DataFrame to CSV\n",
    "df.to_csv('students.csv', index=False)\n",
    "# Explanation: Exports DataFrame to a CSV file. \"\"\""
   ]
  },
  {
   "cell_type": "code",
   "execution_count": null,
   "id": "cf6f2576-8078-4f50-a441-0a536e51c2bc",
   "metadata": {},
   "outputs": [],
   "source": [
    "import numpy as np\n",
    "\n",
    "# Create an empty matrix (filled with spaces or 0s)\n",
    "matrix = np.full((7, 5), ' ') \n",
    "# Define the pattern for the letter 'A'\n",
    "# Vertical lines\n",
    "matrix[1:6, 0] = '*'\n",
    "matrix[1:6, 4] = '*'\n",
    "matrix\n",
    "# Horizontal bar\n",
    "matrix[0, 1:4] = '*'\n",
    "matrix[3, 1:4] = '*'\n",
    "matrix\n",
    "# Top corners (optional, for a more rounded 'A')\n",
    "#matrix[0,0] = '*'\n",
    "#matrix[0,4] = '*'\n",
    "\n",
    "# Print the matrix\n",
    "#for row in matrix:\n",
    " #   print(''.join(row))"
   ]
  },
  {
   "cell_type": "code",
   "execution_count": 14,
   "id": "71f31aa8-5d1c-4b41-a447-80357ffd1c10",
   "metadata": {},
   "outputs": [
    {
     "name": "stdout",
     "output_type": "stream",
     "text": [
      "Original DataFrame:\n",
      "   column_A  column_B\n",
      "0       1.0      10.0\n",
      "1       NaN      20.0\n",
      "2       3.0       NaN\n",
      "3       NaN      40.0\n",
      "4       5.0      50.0\n",
      "\n",
      "DataFrame after filling NaN in 'column_A' with 'column_B':\n",
      "   column_A  column_B\n",
      "0       1.0      10.0\n",
      "1      20.0      20.0\n",
      "2       3.0       NaN\n",
      "3      40.0      40.0\n",
      "4       5.0      50.0\n"
     ]
    },
    {
     "data": {
      "text/html": [
       "<div>\n",
       "<style scoped>\n",
       "    .dataframe tbody tr th:only-of-type {\n",
       "        vertical-align: middle;\n",
       "    }\n",
       "\n",
       "    .dataframe tbody tr th {\n",
       "        vertical-align: top;\n",
       "    }\n",
       "\n",
       "    .dataframe thead th {\n",
       "        text-align: right;\n",
       "    }\n",
       "</style>\n",
       "<table border=\"1\" class=\"dataframe\">\n",
       "  <thead>\n",
       "    <tr style=\"text-align: right;\">\n",
       "      <th></th>\n",
       "      <th>column_A</th>\n",
       "      <th>column_B</th>\n",
       "      <th>column_D</th>\n",
       "    </tr>\n",
       "  </thead>\n",
       "  <tbody>\n",
       "    <tr>\n",
       "      <th>0</th>\n",
       "      <td>1.0</td>\n",
       "      <td>10.0</td>\n",
       "      <td>1.0</td>\n",
       "    </tr>\n",
       "    <tr>\n",
       "      <th>1</th>\n",
       "      <td>20.0</td>\n",
       "      <td>20.0</td>\n",
       "      <td>20.0</td>\n",
       "    </tr>\n",
       "    <tr>\n",
       "      <th>2</th>\n",
       "      <td>3.0</td>\n",
       "      <td>NaN</td>\n",
       "      <td>3.0</td>\n",
       "    </tr>\n",
       "    <tr>\n",
       "      <th>3</th>\n",
       "      <td>40.0</td>\n",
       "      <td>40.0</td>\n",
       "      <td>40.0</td>\n",
       "    </tr>\n",
       "    <tr>\n",
       "      <th>4</th>\n",
       "      <td>5.0</td>\n",
       "      <td>50.0</td>\n",
       "      <td>5.0</td>\n",
       "    </tr>\n",
       "  </tbody>\n",
       "</table>\n",
       "</div>"
      ],
      "text/plain": [
       "   column_A  column_B  column_D\n",
       "0       1.0      10.0       1.0\n",
       "1      20.0      20.0      20.0\n",
       "2       3.0       NaN       3.0\n",
       "3      40.0      40.0      40.0\n",
       "4       5.0      50.0       5.0"
      ]
     },
     "execution_count": 14,
     "metadata": {},
     "output_type": "execute_result"
    }
   ],
   "source": [
    "import pandas as pd\n",
    "import numpy as np\n",
    "\n",
    "# Create a sample DataFrame\n",
    "df = pd.DataFrame({\n",
    "    'column_A': [1, np.nan, 3, np.nan, 5],\n",
    "    'column_B': [10, 20, np.nan, 40, 50]\n",
    "})\n",
    "\n",
    "print(\"Original DataFrame:\")\n",
    "print(df)\n",
    "\n",
    "# Fill NaN in 'column_A' with values from 'column_B'\n",
    "df['column_A'] = df['column_A'].fillna(df['column_B'])\n",
    "\n",
    "print(\"\\nDataFrame after filling NaN in 'column_A' with 'column_B':\")\n",
    "print(df)\n",
    "\n",
    "#or\n",
    "df['column_D'] = df['column_A'].fillna(df['column_B'].mean())\n",
    "df"
   ]
  },
  {
   "cell_type": "code",
   "execution_count": null,
   "id": "93d3b13b-94d0-404a-a4fa-5fe25719a383",
   "metadata": {},
   "outputs": [],
   "source": []
  }
 ],
 "metadata": {
  "kernelspec": {
   "display_name": "Python 3 (ipykernel)",
   "language": "python",
   "name": "python3"
  },
  "language_info": {
   "codemirror_mode": {
    "name": "ipython",
    "version": 3
   },
   "file_extension": ".py",
   "mimetype": "text/x-python",
   "name": "python",
   "nbconvert_exporter": "python",
   "pygments_lexer": "ipython3",
   "version": "3.13.7"
  }
 },
 "nbformat": 4,
 "nbformat_minor": 5
}
