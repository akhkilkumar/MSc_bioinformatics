{
 "cells": [
  {
   "cell_type": "code",
   "execution_count": 1,
   "id": "b26d967b-fa99-461e-97b9-ad69ff6b8bf9",
   "metadata": {},
   "outputs": [
    {
     "name": "stdout",
     "output_type": "stream",
     "text": [
      "      Name  Age\n",
      "0    Alice   25\n",
      "1      Bob   30\n",
      "2  Charlie   35\n",
      "3      Ami    1\n"
     ]
    }
   ],
   "source": [
    "import pandas as pd\n",
    "data = {'Name': ['Alice', 'Bob', 'Charlie','Ami'], 'Age': [25, 30, 35,1]}\n",
    "df = pd.DataFrame(data)\n",
    "print(df)"
   ]
  },
  {
   "cell_type": "code",
   "execution_count": 2,
   "id": "e5f28a27-aabc-47cb-a5a7-40dc83a2fe04",
   "metadata": {},
   "outputs": [
    {
     "name": "stdout",
     "output_type": "stream",
     "text": [
      "      Name  Age\n",
      "0    Alice   25\n",
      "1      Bob   30\n",
      "2  Charlie   35\n",
      "3      Ami    1\n"
     ]
    }
   ],
   "source": [
    "#2. Display first 5 rows of a DataFrame\n",
    "print(df.head())\n",
    "# Explanation: head() shows the first 5 rows by default."
   ]
  },
  {
   "cell_type": "code",
   "execution_count": 3,
   "id": "e1a27fc0-16b1-4515-8243-eeb971f32945",
   "metadata": {},
   "outputs": [
    {
     "name": "stdout",
     "output_type": "stream",
     "text": [
      "      Name  Age\n",
      "1      Bob   30\n",
      "2  Charlie   35\n",
      "3      Ami    1\n"
     ]
    }
   ],
   "source": [
    "#3. Display last 3 rows of a DataFrame\n",
    "print(df.tail(3))\n",
    "# Explanation: tail() shows the last 3 rows."
   ]
  },
  {
   "cell_type": "code",
   "execution_count": 4,
   "id": "014fc13d-58d9-4499-a85d-ff4c4ee54652",
   "metadata": {},
   "outputs": [
    {
     "name": "stdout",
     "output_type": "stream",
     "text": [
      "<class 'pandas.core.frame.DataFrame'>\n",
      "RangeIndex: 4 entries, 0 to 3\n",
      "Data columns (total 2 columns):\n",
      " #   Column  Non-Null Count  Dtype \n",
      "---  ------  --------------  ----- \n",
      " 0   Name    4 non-null      object\n",
      " 1   Age     4 non-null      int64 \n",
      "dtypes: int64(1), object(1)\n",
      "memory usage: 196.0+ bytes\n",
      "None\n"
     ]
    }
   ],
   "source": [
    "#4. Get DataFrame information\n",
    "print(df.info())\n",
    "# Explanation: info() shows column types, non-null counts, and memory usage."
   ]
  },
  {
   "cell_type": "code",
   "execution_count": 5,
   "id": "56c06980-2fd1-446a-8a3d-d417060afe72",
   "metadata": {},
   "outputs": [
    {
     "name": "stdout",
     "output_type": "stream",
     "text": [
      "             Age\n",
      "count   4.000000\n",
      "mean   22.750000\n",
      "std    15.063753\n",
      "min     1.000000\n",
      "25%    19.000000\n",
      "50%    27.500000\n",
      "75%    31.250000\n",
      "max    35.000000\n"
     ]
    }
   ],
   "source": [
    "#5. Get statistical summary\n",
    "print(df.describe())\n",
    "# Explanation: describe() gives mean, std, min, max, etc. for numeric columns."
   ]
  },
  {
   "cell_type": "code",
   "execution_count": 6,
   "id": "31ae7777-665b-44e5-b111-91e4dc29de3c",
   "metadata": {},
   "outputs": [
    {
     "name": "stdout",
     "output_type": "stream",
     "text": [
      "Index(['Name', 'Age'], dtype='object')\n"
     ]
    }
   ],
   "source": [
    "#6. Show column names\n",
    "print(df.columns)\n",
    "# Explanation: columns attribute lists all column names."
   ]
  },
  {
   "cell_type": "code",
   "execution_count": 7,
   "id": "d2ebcfcf-0753-4346-a61c-5d9c7217e466",
   "metadata": {},
   "outputs": [
    {
     "name": "stdout",
     "output_type": "stream",
     "text": [
      "RangeIndex(start=0, stop=4, step=1)\n"
     ]
    }
   ],
   "source": [
    "#7. Show index\n",
    "print(df.index)\n",
    "# Explanation: index attribute shows row labels."
   ]
  },
  {
   "cell_type": "code",
   "execution_count": 10,
   "id": "1c52c488-42a5-4c09-8dd0-08cc437193a7",
   "metadata": {},
   "outputs": [
    {
     "name": "stdout",
     "output_type": "stream",
     "text": [
      "0    25\n",
      "1    30\n",
      "2    35\n",
      "3     1\n",
      "Name: Age, dtype: int64\n"
     ]
    }
   ],
   "source": [
    "#8. Select a single column\n",
    "print(df['Age'])\n",
    "# Explanation: Accessing column as Series."
   ]
  },
  {
   "cell_type": "code",
   "execution_count": 11,
   "id": "440c29a3-bc07-4ad2-baa1-f79642d6520f",
   "metadata": {},
   "outputs": [
    {
     "name": "stdout",
     "output_type": "stream",
     "text": [
      "      Name  Age\n",
      "0    Alice   25\n",
      "1      Bob   30\n",
      "2  Charlie   35\n",
      "3      Ami    1\n"
     ]
    }
   ],
   "source": [
    "print(df[['Name', 'Age']])"
   ]
  },
  {
   "cell_type": "code",
   "execution_count": 12,
   "id": "ca2b78ec-cb5e-4701-a8ee-314349148930",
   "metadata": {},
   "outputs": [
    {
     "name": "stdout",
     "output_type": "stream",
     "text": [
      "Name    Alice\n",
      "Age        25\n",
      "Name: 0, dtype: object\n"
     ]
    }
   ],
   "source": [
    "#10. Select a row by index using loc\n",
    "print(df.loc[0])\n",
    "# Explanation: loc selects by label/index."
   ]
  },
  {
   "cell_type": "code",
   "execution_count": 13,
   "id": "2e6a414c-5d26-4986-b995-f6617db0e17f",
   "metadata": {},
   "outputs": [
    {
     "name": "stdout",
     "output_type": "stream",
     "text": [
      "      Name  Age\n",
      "1      Bob   30\n",
      "2  Charlie   35\n"
     ]
    }
   ],
   "source": [
    "print(df[df['Age'] > 28])"
   ]
  },
  {
   "cell_type": "code",
   "execution_count": 40,
   "id": "511a17f0-644d-41d8-9b55-9b78e014f89e",
   "metadata": {},
   "outputs": [],
   "source": [
    "f['NAME'] = f['Age']"
   ]
  },
  {
   "cell_type": "code",
   "execution_count": 41,
   "id": "df589a01-6949-422d-b0e7-f574b34052a3",
   "metadata": {},
   "outputs": [
    {
     "data": {
      "text/html": [
       "<div>\n",
       "<style scoped>\n",
       "    .dataframe tbody tr th:only-of-type {\n",
       "        vertical-align: middle;\n",
       "    }\n",
       "\n",
       "    .dataframe tbody tr th {\n",
       "        vertical-align: top;\n",
       "    }\n",
       "\n",
       "    .dataframe thead th {\n",
       "        text-align: right;\n",
       "    }\n",
       "</style>\n",
       "<table border=\"1\" class=\"dataframe\">\n",
       "  <thead>\n",
       "    <tr style=\"text-align: right;\">\n",
       "      <th></th>\n",
       "      <th>FullName</th>\n",
       "      <th>Age</th>\n",
       "      <th>Country</th>\n",
       "      <th>NAME</th>\n",
       "    </tr>\n",
       "  </thead>\n",
       "  <tbody>\n",
       "    <tr>\n",
       "      <th>1</th>\n",
       "      <td>Bob</td>\n",
       "      <td>30</td>\n",
       "      <td>UK</td>\n",
       "      <td>30</td>\n",
       "    </tr>\n",
       "    <tr>\n",
       "      <th>2</th>\n",
       "      <td>Charlie</td>\n",
       "      <td>35</td>\n",
       "      <td>India</td>\n",
       "      <td>35</td>\n",
       "    </tr>\n",
       "    <tr>\n",
       "      <th>3</th>\n",
       "      <td>Ami</td>\n",
       "      <td>1</td>\n",
       "      <td>a</td>\n",
       "      <td>1</td>\n",
       "    </tr>\n",
       "  </tbody>\n",
       "</table>\n",
       "</div>"
      ],
      "text/plain": [
       "  FullName  Age Country  NAME\n",
       "1      Bob   30      UK    30\n",
       "2  Charlie   35   India    35\n",
       "3      Ami    1       a     1"
      ]
     },
     "execution_count": 41,
     "metadata": {},
     "output_type": "execute_result"
    }
   ],
   "source": [
    "f"
   ]
  },
  {
   "cell_type": "code",
   "execution_count": 32,
   "id": "a4c4665e-8fc8-4ff8-acf8-6a1aeffd91a2",
   "metadata": {},
   "outputs": [],
   "source": [
    "dfdf = df.drop('Country', axis=1)"
   ]
  },
  {
   "cell_type": "code",
   "execution_count": 34,
   "id": "6e1defab-bd77-4607-8b35-bfc852a3b32a",
   "metadata": {},
   "outputs": [],
   "source": [
    "df = df.drop(0)"
   ]
  },
  {
   "cell_type": "code",
   "execution_count": 36,
   "id": "1eda76e9-f752-494c-b28b-bb3519ac7d93",
   "metadata": {},
   "outputs": [],
   "source": [
    "f = df.rename(columns={'Name': 'FullName'})"
   ]
  },
  {
   "cell_type": "code",
   "execution_count": 39,
   "id": "ca1454a8-1768-4a3e-b3d1-0c38c8dfef97",
   "metadata": {},
   "outputs": [
    {
     "data": {
      "text/html": [
       "<div>\n",
       "<style scoped>\n",
       "    .dataframe tbody tr th:only-of-type {\n",
       "        vertical-align: middle;\n",
       "    }\n",
       "\n",
       "    .dataframe tbody tr th {\n",
       "        vertical-align: top;\n",
       "    }\n",
       "\n",
       "    .dataframe thead th {\n",
       "        text-align: right;\n",
       "    }\n",
       "</style>\n",
       "<table border=\"1\" class=\"dataframe\">\n",
       "  <thead>\n",
       "    <tr style=\"text-align: right;\">\n",
       "      <th></th>\n",
       "      <th>FullName</th>\n",
       "      <th>Age</th>\n",
       "      <th>Country</th>\n",
       "    </tr>\n",
       "  </thead>\n",
       "  <tbody>\n",
       "    <tr>\n",
       "      <th>1</th>\n",
       "      <td>Bob</td>\n",
       "      <td>30</td>\n",
       "      <td>UK</td>\n",
       "    </tr>\n",
       "    <tr>\n",
       "      <th>2</th>\n",
       "      <td>Charlie</td>\n",
       "      <td>35</td>\n",
       "      <td>India</td>\n",
       "    </tr>\n",
       "    <tr>\n",
       "      <th>3</th>\n",
       "      <td>Ami</td>\n",
       "      <td>1</td>\n",
       "      <td>a</td>\n",
       "    </tr>\n",
       "  </tbody>\n",
       "</table>\n",
       "</div>"
      ],
      "text/plain": [
       "  FullName  Age Country\n",
       "1      Bob   30      UK\n",
       "2  Charlie   35   India\n",
       "3      Ami    1       a"
      ]
     },
     "execution_count": 39,
     "metadata": {},
     "output_type": "execute_result"
    }
   ],
   "source": [
    "f"
   ]
  },
  {
   "cell_type": "code",
   "execution_count": 42,
   "id": "074c4c89-d40c-460d-a149-fae04798bcb3",
   "metadata": {},
   "outputs": [
    {
     "name": "stdout",
     "output_type": "stream",
     "text": [
      "      Name  Age Country\n",
      "3      Ami    1       a\n",
      "1      Bob   30      UK\n",
      "2  Charlie   35   India\n"
     ]
    }
   ],
   "source": [
    "print(df.sort_values(by='Age'))"
   ]
  },
  {
   "cell_type": "code",
   "execution_count": 43,
   "id": "d6f3a08b-c455-40bc-9902-99d36c3228d7",
   "metadata": {},
   "outputs": [],
   "source": [
    "df['Age'] = df['Age'].astype(float)"
   ]
  },
  {
   "cell_type": "code",
   "execution_count": 44,
   "id": "c6d403ec-86da-4af8-9a4a-04a167579dbd",
   "metadata": {},
   "outputs": [
    {
     "name": "stdout",
     "output_type": "stream",
     "text": [
      "Age\n",
      "30.0    1\n",
      "35.0    1\n",
      "1.0     1\n",
      "Name: count, dtype: int64\n"
     ]
    }
   ],
   "source": [
    "print(df['Age'].value_counts())"
   ]
  },
  {
   "cell_type": "code",
   "execution_count": 45,
   "id": "78e9c902-f88b-4951-b576-64337c7fe24e",
   "metadata": {},
   "outputs": [
    {
     "name": "stdout",
     "output_type": "stream",
     "text": [
      "[30. 35.  1.]\n"
     ]
    }
   ],
   "source": [
    "print(df['Age'].unique())"
   ]
  },
  {
   "cell_type": "code",
   "execution_count": null,
   "id": "92f530d1-c8d1-446a-bade-a7c3d8315aeb",
   "metadata": {},
   "outputs": [],
   "source": [
    "df['Age'].fillna(df['Age'].mean(), inplace=True)"
   ]
  },
  {
   "cell_type": "code",
   "execution_count": 47,
   "id": "d6f4e005-7775-499c-a7dc-0dfe39471918",
   "metadata": {},
   "outputs": [],
   "source": [
    "import numpy as np\n",
    "df['Senior'] = np.where(df['Age'] > 30, 'Yes', 'No')"
   ]
  },
  {
   "cell_type": "code",
   "execution_count": 48,
   "id": "ddf3a762-b204-4fa7-947c-657a74414561",
   "metadata": {},
   "outputs": [
    {
     "data": {
      "text/html": [
       "<div>\n",
       "<style scoped>\n",
       "    .dataframe tbody tr th:only-of-type {\n",
       "        vertical-align: middle;\n",
       "    }\n",
       "\n",
       "    .dataframe tbody tr th {\n",
       "        vertical-align: top;\n",
       "    }\n",
       "\n",
       "    .dataframe thead th {\n",
       "        text-align: right;\n",
       "    }\n",
       "</style>\n",
       "<table border=\"1\" class=\"dataframe\">\n",
       "  <thead>\n",
       "    <tr style=\"text-align: right;\">\n",
       "      <th></th>\n",
       "      <th>Name</th>\n",
       "      <th>Age</th>\n",
       "      <th>Country</th>\n",
       "      <th>Senior</th>\n",
       "    </tr>\n",
       "  </thead>\n",
       "  <tbody>\n",
       "    <tr>\n",
       "      <th>1</th>\n",
       "      <td>Bob</td>\n",
       "      <td>30.0</td>\n",
       "      <td>UK</td>\n",
       "      <td>No</td>\n",
       "    </tr>\n",
       "    <tr>\n",
       "      <th>2</th>\n",
       "      <td>Charlie</td>\n",
       "      <td>35.0</td>\n",
       "      <td>India</td>\n",
       "      <td>Yes</td>\n",
       "    </tr>\n",
       "    <tr>\n",
       "      <th>3</th>\n",
       "      <td>Ami</td>\n",
       "      <td>1.0</td>\n",
       "      <td>a</td>\n",
       "      <td>No</td>\n",
       "    </tr>\n",
       "  </tbody>\n",
       "</table>\n",
       "</div>"
      ],
      "text/plain": [
       "      Name   Age Country Senior\n",
       "1      Bob  30.0      UK     No\n",
       "2  Charlie  35.0   India    Yes\n",
       "3      Ami   1.0       a     No"
      ]
     },
     "execution_count": 48,
     "metadata": {},
     "output_type": "execute_result"
    }
   ],
   "source": [
    "df"
   ]
  },
  {
   "cell_type": "code",
   "execution_count": 49,
   "id": "ade9e9e8-b09d-4457-a05e-b16d95a3035e",
   "metadata": {},
   "outputs": [],
   "source": [
    "df['Age_plus_5'] = df['Age'].apply(lambda x: x + 5)"
   ]
  },
  {
   "cell_type": "code",
   "execution_count": 50,
   "id": "b7b5d839-e697-4382-b034-1642fe635ac8",
   "metadata": {},
   "outputs": [
    {
     "data": {
      "text/html": [
       "<div>\n",
       "<style scoped>\n",
       "    .dataframe tbody tr th:only-of-type {\n",
       "        vertical-align: middle;\n",
       "    }\n",
       "\n",
       "    .dataframe tbody tr th {\n",
       "        vertical-align: top;\n",
       "    }\n",
       "\n",
       "    .dataframe thead th {\n",
       "        text-align: right;\n",
       "    }\n",
       "</style>\n",
       "<table border=\"1\" class=\"dataframe\">\n",
       "  <thead>\n",
       "    <tr style=\"text-align: right;\">\n",
       "      <th></th>\n",
       "      <th>Name</th>\n",
       "      <th>Age</th>\n",
       "      <th>Country</th>\n",
       "      <th>Senior</th>\n",
       "      <th>Age_plus_5</th>\n",
       "    </tr>\n",
       "  </thead>\n",
       "  <tbody>\n",
       "    <tr>\n",
       "      <th>1</th>\n",
       "      <td>Bob</td>\n",
       "      <td>30.0</td>\n",
       "      <td>UK</td>\n",
       "      <td>No</td>\n",
       "      <td>35.0</td>\n",
       "    </tr>\n",
       "    <tr>\n",
       "      <th>2</th>\n",
       "      <td>Charlie</td>\n",
       "      <td>35.0</td>\n",
       "      <td>India</td>\n",
       "      <td>Yes</td>\n",
       "      <td>40.0</td>\n",
       "    </tr>\n",
       "    <tr>\n",
       "      <th>3</th>\n",
       "      <td>Ami</td>\n",
       "      <td>1.0</td>\n",
       "      <td>a</td>\n",
       "      <td>No</td>\n",
       "      <td>6.0</td>\n",
       "    </tr>\n",
       "  </tbody>\n",
       "</table>\n",
       "</div>"
      ],
      "text/plain": [
       "      Name   Age Country Senior  Age_plus_5\n",
       "1      Bob  30.0      UK     No        35.0\n",
       "2  Charlie  35.0   India    Yes        40.0\n",
       "3      Ami   1.0       a     No         6.0"
      ]
     },
     "execution_count": 50,
     "metadata": {},
     "output_type": "execute_result"
    }
   ],
   "source": [
    "df"
   ]
  },
  {
   "cell_type": "code",
   "execution_count": null,
   "id": "169f9795-7a95-490f-81bf-0be6696bee54",
   "metadata": {},
   "outputs": [],
   "source": []
  }
 ],
 "metadata": {
  "kernelspec": {
   "display_name": "Python 3 (ipykernel)",
   "language": "python",
   "name": "python3"
  },
  "language_info": {
   "codemirror_mode": {
    "name": "ipython",
    "version": 3
   },
   "file_extension": ".py",
   "mimetype": "text/x-python",
   "name": "python",
   "nbconvert_exporter": "python",
   "pygments_lexer": "ipython3",
   "version": "3.13.7"
  }
 },
 "nbformat": 4,
 "nbformat_minor": 5
}
