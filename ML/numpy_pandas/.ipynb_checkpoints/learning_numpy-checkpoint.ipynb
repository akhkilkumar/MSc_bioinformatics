{
 "cells": [
  {
   "cell_type": "code",
   "execution_count": 2,
   "id": "c6abce2d-bf0a-49d7-ac53-5a32c098b09d",
   "metadata": {},
   "outputs": [],
   "source": [
    "import numpy as np"
   ]
  },
  {
   "cell_type": "code",
   "execution_count": 3,
   "id": "a78876ea-60f3-405c-b106-5389223f85ae",
   "metadata": {},
   "outputs": [
    {
     "data": {
      "text/plain": [
       "'2.0.2'"
      ]
     },
     "execution_count": 3,
     "metadata": {},
     "output_type": "execute_result"
    }
   ],
   "source": [
    "np.version.full_version"
   ]
  },
  {
   "cell_type": "markdown",
   "id": "71ed11cd-13db-433b-be51-b84ac633e47c",
   "metadata": {},
   "source": [
    "## create an array i.e similar to list"
   ]
  },
  {
   "cell_type": "code",
   "execution_count": 4,
   "id": "60a3c500-6c0b-4966-8948-657a955eeaec",
   "metadata": {},
   "outputs": [],
   "source": [
    "a=np.array([0,1,2,3,4,5])"
   ]
  },
  {
   "cell_type": "code",
   "execution_count": 5,
   "id": "775076cf-9ef9-4d35-8e4e-b28098bbbbf1",
   "metadata": {},
   "outputs": [
    {
     "data": {
      "text/plain": [
       "array([0, 1, 2, 3, 4, 5])"
      ]
     },
     "execution_count": 5,
     "metadata": {},
     "output_type": "execute_result"
    }
   ],
   "source": [
    "a"
   ]
  },
  {
   "cell_type": "code",
   "execution_count": 6,
   "id": "7ae6ba2f-6d17-47e1-8713-66ba7e72a712",
   "metadata": {},
   "outputs": [
    {
     "data": {
      "text/plain": [
       "1"
      ]
     },
     "execution_count": 6,
     "metadata": {},
     "output_type": "execute_result"
    }
   ],
   "source": [
    "a.ndim"
   ]
  },
  {
   "cell_type": "code",
   "execution_count": 7,
   "id": "c07431da-defd-4f76-8d7b-e6d8a4ab5214",
   "metadata": {},
   "outputs": [
    {
     "data": {
      "text/plain": [
       "(6,)"
      ]
     },
     "execution_count": 7,
     "metadata": {},
     "output_type": "execute_result"
    }
   ],
   "source": [
    "a.shape"
   ]
  },
  {
   "cell_type": "code",
   "execution_count": 48,
   "id": "d6adbe0c-e754-4b2f-9b1b-3a8d022766f7",
   "metadata": {},
   "outputs": [
    {
     "name": "stdout",
     "output_type": "stream",
     "text": [
      "[0 1 2 3 4 5 6 7 8 9]\n"
     ]
    }
   ],
   "source": [
    "#Create a 1D NumPy array of numbers from 0 to 9\n",
    "arr = np.arange(10)\n",
    "print(arr)        # [0 1 2 3 4 5 6 7 8 9]"
   ]
  },
  {
   "cell_type": "code",
   "execution_count": 49,
   "id": "824c43bc-117a-4293-aa0c-c50234828044",
   "metadata": {},
   "outputs": [
    {
     "name": "stdout",
     "output_type": "stream",
     "text": [
      "[0. 0. 0. 0. 0. 0. 0. 0. 0. 0.]\n"
     ]
    }
   ],
   "source": [
    "#Create a 1D array filled with zeros of size 10\n",
    "zeros = np.zeros(10)\n",
    "print(zeros)"
   ]
  },
  {
   "cell_type": "code",
   "execution_count": 50,
   "id": "dad7234a-29b8-4a4c-b04e-2633f57ffee4",
   "metadata": {},
   "outputs": [
    {
     "name": "stdout",
     "output_type": "stream",
     "text": [
      "[1. 1. 1. 1. 1.]\n"
     ]
    }
   ],
   "source": [
    "#Create a 1D array filled with ones of size 5\n",
    "ones = np.ones(5)\n",
    "print(ones)"
   ]
  },
  {
   "cell_type": "code",
   "execution_count": 51,
   "id": "481a214d-320d-4786-affd-0be24ca3c320",
   "metadata": {},
   "outputs": [
    {
     "name": "stdout",
     "output_type": "stream",
     "text": [
      "[10 15 20 25 30 35 40 45 50]\n"
     ]
    }
   ],
   "source": [
    "#Array of numbers from 10 to 50 with step size 5\n",
    "\n",
    "step_arr = np.arange(10, 55, 5)\n",
    "print(step_arr)   # [10 15 20 25 30 35 40 45 50]"
   ]
  },
  {
   "cell_type": "code",
   "execution_count": 52,
   "id": "e1618667-d6df-40df-82ad-eddd0f1c3ef3",
   "metadata": {},
   "outputs": [
    {
     "name": "stdout",
     "output_type": "stream",
     "text": [
      "[0.88414963 0.5630184  0.31460327 0.31919533 0.01437391 0.14265183\n",
      " 0.95813636 0.56657988 0.02397953 0.94054783]\n"
     ]
    }
   ],
   "source": [
    "#Array of 10 random numbers between 0 and 1\n",
    "rand_nums = np.random.rand(10)\n",
    "print(rand_nums)"
   ]
  },
  {
   "cell_type": "code",
   "execution_count": 53,
   "id": "70a3930b-efcd-4957-974c-f6645584a5b4",
   "metadata": {},
   "outputs": [
    {
     "name": "stdout",
     "output_type": "stream",
     "text": [
      "[[1. 0. 0.]\n",
      " [0. 1. 0.]\n",
      " [0. 0. 1.]]\n"
     ]
    }
   ],
   "source": [
    "#Create a 3x3 identity matrix\n",
    "identity = np.eye(3)\n",
    "print(identity)\n"
   ]
  },
  {
   "cell_type": "code",
   "execution_count": null,
   "id": "d447161a-2f19-4c92-81bd-550a2f710614",
   "metadata": {},
   "outputs": [],
   "source": []
  },
  {
   "cell_type": "code",
   "execution_count": null,
   "id": "aa8df04b-09ca-407c-9ebf-048c0ea46265",
   "metadata": {},
   "outputs": [],
   "source": []
  },
  {
   "cell_type": "markdown",
   "id": "7633b674-f367-4b9b-b0b2-1d4ab8935d8d",
   "metadata": {},
   "source": [
    "## transform this arrya into a 2D matrix"
   ]
  },
  {
   "cell_type": "code",
   "execution_count": 8,
   "id": "65737870-a0fc-47e6-b65f-b283eb227b33",
   "metadata": {},
   "outputs": [
    {
     "data": {
      "text/plain": [
       "array([[0, 1],\n",
       "       [2, 3],\n",
       "       [4, 5]])"
      ]
     },
     "execution_count": 8,
     "metadata": {},
     "output_type": "execute_result"
    }
   ],
   "source": [
    "b= a.reshape((3,2)) #r,c\n",
    "b"
   ]
  },
  {
   "cell_type": "code",
   "execution_count": 9,
   "id": "13cb3a0e-1e1a-4757-8fa8-765f783da902",
   "metadata": {},
   "outputs": [
    {
     "data": {
      "text/plain": [
       "2"
      ]
     },
     "execution_count": 9,
     "metadata": {},
     "output_type": "execute_result"
    }
   ],
   "source": [
    "b.ndim"
   ]
  },
  {
   "cell_type": "code",
   "execution_count": 10,
   "id": "bf151c7f-fdda-4281-a183-a931953b766c",
   "metadata": {},
   "outputs": [
    {
     "data": {
      "text/plain": [
       "(3, 2)"
      ]
     },
     "execution_count": 10,
     "metadata": {},
     "output_type": "execute_result"
    }
   ],
   "source": [
    "b.shape"
   ]
  },
  {
   "cell_type": "code",
   "execution_count": 11,
   "id": "902102e2-bb24-4328-8ade-48ecd4ca3bdd",
   "metadata": {},
   "outputs": [],
   "source": [
    "## it avoids copies wherever possible"
   ]
  },
  {
   "cell_type": "code",
   "execution_count": 12,
   "id": "d04a178a-0612-4f96-8340-5bd16b79a04d",
   "metadata": {},
   "outputs": [],
   "source": [
    "b[1][0]=77"
   ]
  },
  {
   "cell_type": "code",
   "execution_count": 13,
   "id": "49d5a86c-a667-43b7-b93a-1c05518c1b92",
   "metadata": {},
   "outputs": [
    {
     "data": {
      "text/plain": [
       "array([[ 0,  1],\n",
       "       [77,  3],\n",
       "       [ 4,  5]])"
      ]
     },
     "execution_count": 13,
     "metadata": {},
     "output_type": "execute_result"
    }
   ],
   "source": [
    "b"
   ]
  },
  {
   "cell_type": "code",
   "execution_count": 14,
   "id": "ab1d1afc-4ddf-4f03-8202-124f9b0e5d53",
   "metadata": {},
   "outputs": [
    {
     "data": {
      "text/plain": [
       "array([ 0,  1, 77,  3,  4,  5])"
      ]
     },
     "execution_count": 14,
     "metadata": {},
     "output_type": "execute_result"
    }
   ],
   "source": [
    "a # we can iimediately see the  same changes reflecte in a as well "
   ]
  },
  {
   "cell_type": "code",
   "execution_count": 54,
   "id": "3ffb3e9d-3e86-4583-8331-76763920bf07",
   "metadata": {},
   "outputs": [],
   "source": [
    "A = np.array([[1, 2, 3],\n",
    "                  [4, 5, 6],\n",
    "                  [7, 8, 9]])\n",
    "B = np.array([[9, 8, 7],\n",
    "                  [6, 5, 4],\n",
    "                  [3, 2, 1]])"
   ]
  },
  {
   "cell_type": "code",
   "execution_count": 57,
   "id": "4ba09e51-54ee-4d1b-9c60-e7a2f1b35bad",
   "metadata": {},
   "outputs": [
    {
     "name": "stdout",
     "output_type": "stream",
     "text": [
      "(3, 3)\n",
      "9\n"
     ]
    }
   ],
   "source": [
    "#S#hape and size of A\n",
    "print(A.shape)   # (3, 3)\n",
    "print(A.size)    # 9\n"
   ]
  },
  {
   "cell_type": "code",
   "execution_count": 58,
   "id": "b9217ea8-4fc9-402c-8512-f49f93536535",
   "metadata": {},
   "outputs": [
    {
     "name": "stdout",
     "output_type": "stream",
     "text": [
      "[1 2 3]\n"
     ]
    }
   ],
   "source": [
    "#First row of A\n",
    "print(A[0])      # [1 2 3]\n"
   ]
  },
  {
   "cell_type": "code",
   "execution_count": 59,
   "id": "086e64f2-6eb9-4f19-98dc-e48f75f477f1",
   "metadata": {},
   "outputs": [
    {
     "name": "stdout",
     "output_type": "stream",
     "text": [
      "[2 5 8]\n"
     ]
    }
   ],
   "source": [
    "#Second column of A\n",
    "print(A[:,1])    # [2 5 8]"
   ]
  },
  {
   "cell_type": "code",
   "execution_count": 60,
   "id": "a8232413-a70e-41a0-9ab0-33661a817062",
   "metadata": {},
   "outputs": [
    {
     "data": {
      "text/plain": [
       "array([[10, 10, 10],\n",
       "       [10, 10, 10],\n",
       "       [10, 10, 10]])"
      ]
     },
     "execution_count": 60,
     "metadata": {},
     "output_type": "execute_result"
    }
   ],
   "source": [
    "A + B"
   ]
  },
  {
   "cell_type": "code",
   "execution_count": 61,
   "id": "3259c6e2-9b04-4c0a-90d2-184911d43185",
   "metadata": {},
   "outputs": [
    {
     "data": {
      "text/plain": [
       "array([[-8, -6, -4],\n",
       "       [-2,  0,  2],\n",
       "       [ 4,  6,  8]])"
      ]
     },
     "execution_count": 61,
     "metadata": {},
     "output_type": "execute_result"
    }
   ],
   "source": [
    "A-B"
   ]
  },
  {
   "cell_type": "code",
   "execution_count": 62,
   "id": "bdfab7be-66bd-4630-8cc0-7d80058fc772",
   "metadata": {},
   "outputs": [
    {
     "data": {
      "text/plain": [
       "array([[ 9, 16, 21],\n",
       "       [24, 25, 24],\n",
       "       [21, 16,  9]])"
      ]
     },
     "execution_count": 62,
     "metadata": {},
     "output_type": "execute_result"
    }
   ],
   "source": [
    "A*B"
   ]
  },
  {
   "cell_type": "code",
   "execution_count": 64,
   "id": "debd672b-0981-4585-ab46-84b715afd816",
   "metadata": {},
   "outputs": [
    {
     "name": "stdout",
     "output_type": "stream",
     "text": [
      "[[1 2 3]\n",
      " [4 5 6]\n",
      " [7 8 9]]\n",
      "[[1 4 7]\n",
      " [2 5 8]\n",
      " [3 6 9]]\n"
     ]
    }
   ],
   "source": [
    "#Transpose of A\n",
    "print(A)\n",
    "print(A.T)"
   ]
  },
  {
   "cell_type": "code",
   "execution_count": null,
   "id": "124541bf-fcec-4350-a707-6fc6235959b0",
   "metadata": {},
   "outputs": [],
   "source": []
  },
  {
   "cell_type": "code",
   "execution_count": null,
   "id": "8f1b446e-1d77-4fd0-8327-2a69902ab2a5",
   "metadata": {},
   "outputs": [],
   "source": []
  },
  {
   "cell_type": "markdown",
   "id": "68e5b92f-a137-4011-92df-c819db18ab32",
   "metadata": {},
   "source": [
    "## keep in mind when you need true copy"
   ]
  },
  {
   "cell_type": "code",
   "execution_count": 15,
   "id": "c1d53eeb-0281-4c44-8419-d3ec859891ba",
   "metadata": {},
   "outputs": [],
   "source": [
    "c = a.reshape((3,2)).copy()"
   ]
  },
  {
   "cell_type": "code",
   "execution_count": 16,
   "id": "98b6654a-5287-4883-ab67-d5665da4c910",
   "metadata": {},
   "outputs": [],
   "source": [
    "c[0][0]=-99"
   ]
  },
  {
   "cell_type": "code",
   "execution_count": 17,
   "id": "d4143d9b-8cfb-4894-959d-ee82c6aa1d52",
   "metadata": {},
   "outputs": [
    {
     "data": {
      "text/plain": [
       "(array([ 0,  1, 77,  3,  4,  5]),\n",
       " array([[-99,   1],\n",
       "        [ 77,   3],\n",
       "        [  4,   5]]))"
      ]
     },
     "execution_count": 17,
     "metadata": {},
     "output_type": "execute_result"
    }
   ],
   "source": [
    "a,c # here c and a are totally independent copy"
   ]
  },
  {
   "cell_type": "markdown",
   "id": "d1f2d52d-6363-4079-ba0e-0ce46d15ac2b",
   "metadata": {},
   "source": [
    "## operations are propagated to the individual elements"
   ]
  },
  {
   "cell_type": "code",
   "execution_count": 18,
   "id": "93c4556a-c097-44f2-bb0d-e474847ecbd8",
   "metadata": {},
   "outputs": [
    {
     "data": {
      "text/plain": [
       "array([  0,   2, 154,   6,   8,  10])"
      ]
     },
     "execution_count": 18,
     "metadata": {},
     "output_type": "execute_result"
    }
   ],
   "source": [
    "a*2"
   ]
  },
  {
   "cell_type": "code",
   "execution_count": 19,
   "id": "637f809e-4a67-4d79-9a67-a996c888c897",
   "metadata": {},
   "outputs": [
    {
     "data": {
      "text/plain": [
       "array([   0,    1, 5929,    9,   16,   25])"
      ]
     },
     "execution_count": 19,
     "metadata": {},
     "output_type": "execute_result"
    }
   ],
   "source": [
    "a**2 #where as in list what will happend if we do [1,2,3,4,5]*2"
   ]
  },
  {
   "cell_type": "markdown",
   "id": "afc0672e-aa19-4b11-bcec-aba4faaaf3ce",
   "metadata": {},
   "source": [
    "## indexing power of numpy "
   ]
  },
  {
   "cell_type": "code",
   "execution_count": 24,
   "id": "02d866cb-219c-47dc-8adf-84b54602fa48",
   "metadata": {},
   "outputs": [
    {
     "data": {
      "text/plain": [
       "array([ 0,  1, 77,  3,  4,  5])"
      ]
     },
     "execution_count": 24,
     "metadata": {},
     "output_type": "execute_result"
    }
   ],
   "source": [
    "a"
   ]
  },
  {
   "cell_type": "code",
   "execution_count": 25,
   "id": "a8dd1b8b-9ea6-4c78-bdee-bbcd11b4961f",
   "metadata": {},
   "outputs": [
    {
     "data": {
      "text/plain": [
       "array([ 0, 77,  3])"
      ]
     },
     "execution_count": 25,
     "metadata": {},
     "output_type": "execute_result"
    }
   ],
   "source": [
    "a[np.array([0,2,3])]"
   ]
  },
  {
   "cell_type": "code",
   "execution_count": 26,
   "id": "62873c1d-b6eb-4379-b8a4-f07e66249ebf",
   "metadata": {},
   "outputs": [
    {
     "data": {
      "text/plain": [
       "array([False, False,  True, False, False,  True])"
      ]
     },
     "execution_count": 26,
     "metadata": {},
     "output_type": "execute_result"
    }
   ],
   "source": [
    "# in addition to fact that condition are now  propagated to the inndividual elements \n",
    "a>4"
   ]
  },
  {
   "cell_type": "code",
   "execution_count": 27,
   "id": "8304cad6-6903-40bd-a5d7-87815417c5ca",
   "metadata": {},
   "outputs": [
    {
     "data": {
      "text/plain": [
       "array([77,  5])"
      ]
     },
     "execution_count": 27,
     "metadata": {},
     "output_type": "execute_result"
    }
   ],
   "source": [
    "a[a>4]"
   ]
  },
  {
   "cell_type": "code",
   "execution_count": 28,
   "id": "fe5425b4-7a7a-4aff-8cc5-9d36247c0637",
   "metadata": {},
   "outputs": [],
   "source": [
    "# this can also be used to trim outiers"
   ]
  },
  {
   "cell_type": "code",
   "execution_count": 47,
   "id": "52d05f5f-7de2-4e15-a245-df1a27503b83",
   "metadata": {},
   "outputs": [
    {
     "data": {
      "text/plain": [
       "array([0, 1, 5, 3, 4, 5])"
      ]
     },
     "execution_count": 47,
     "metadata": {},
     "output_type": "execute_result"
    }
   ],
   "source": [
    "a[a>4]=5\n",
    "a"
   ]
  },
  {
   "cell_type": "code",
   "execution_count": 65,
   "id": "7dc0d09c-b359-4b46-b737-e589c326be20",
   "metadata": {},
   "outputs": [
    {
     "name": "stdout",
     "output_type": "stream",
     "text": [
      "[10 11 12]\n"
     ]
    }
   ],
   "source": [
    "arr = np.arange(10, 20)   # [10 11 12 13 14 15 16 17 18 19]\n",
    "# First 3 elements\n",
    "\n",
    "print(arr[:3])   # [10 11 12]"
   ]
  },
  {
   "cell_type": "code",
   "execution_count": 67,
   "id": "d34e2f16-8b3a-49d1-917e-ba2d5447117b",
   "metadata": {},
   "outputs": [
    {
     "name": "stdout",
     "output_type": "stream",
     "text": [
      "[18 19]\n"
     ]
    }
   ],
   "source": [
    "#Last 2 elements\n",
    "print(arr[-2:])  # [18 19]\n"
   ]
  },
  {
   "cell_type": "code",
   "execution_count": 68,
   "id": "0729a412-ae1f-44ae-9806-b1ab276a52b7",
   "metadata": {},
   "outputs": [
    {
     "name": "stdout",
     "output_type": "stream",
     "text": [
      "[13 14 15 16 17]\n"
     ]
    }
   ],
   "source": [
    "#Elements from index 3 to 7\n",
    "\n",
    "print(arr[3:8])  # [13 14 15 16 17]"
   ]
  },
  {
   "cell_type": "code",
   "execution_count": 69,
   "id": "90335475-1584-4e4c-874e-0542ec1a95bf",
   "metadata": {},
   "outputs": [
    {
     "name": "stdout",
     "output_type": "stream",
     "text": [
      "[10 12 14 16 18]\n"
     ]
    }
   ],
   "source": [
    "#Every second element\n",
    "print(arr[::2])  # [10 12 14 16 18]"
   ]
  },
  {
   "cell_type": "code",
   "execution_count": 70,
   "id": "26c30da1-ba37-4aff-8170-6e7902545afe",
   "metadata": {},
   "outputs": [
    {
     "name": "stdout",
     "output_type": "stream",
     "text": [
      "[19 18 17 16 15 14 13 12 11 10]\n"
     ]
    }
   ],
   "source": [
    "#Reverse the array\n",
    "print(arr[::-1]) # [19 18 17 16 15 14 13 12 11 10]\n"
   ]
  },
  {
   "cell_type": "code",
   "execution_count": 71,
   "id": "380957f6-a2f3-4a77-bb66-8cbc4916c3e8",
   "metadata": {},
   "outputs": [
    {
     "name": "stdout",
     "output_type": "stream",
     "text": [
      "[ 10  11 100  13  14  15  16  17  18  19]\n"
     ]
    }
   ],
   "source": [
    "#Change value at index 2 to 100\n",
    "arr[2] = 100\n",
    "print(arr)"
   ]
  },
  {
   "cell_type": "code",
   "execution_count": 72,
   "id": "589a86cb-6033-40b5-a178-46e8af686349",
   "metadata": {},
   "outputs": [
    {
     "name": "stdout",
     "output_type": "stream",
     "text": [
      "[100  16  17  18  19]\n"
     ]
    }
   ],
   "source": [
    "#Select elements greater than 15\n",
    "print(arr[arr > 15])  "
   ]
  },
  {
   "cell_type": "markdown",
   "id": "5f91d176-3ba0-40dd-a592-ce3106441e64",
   "metadata": {},
   "source": [
    "## Create a 5×5 matrix with values 1,2,3,…,25 and reshape it to 25×1\n",
    "## Generate an array of 100 random numbers between -10 and 10. Replace all negative values with 0.\n",
    "\n",
    "## Create a 10×10 matrix where the border elements are 1 and the inside elements are 0.\n",
    "\n",
    "## Create a checkerboard pattern (8×8) using only NumPy slicing.\n",
    "\n",
    "\n",
    "## Normalize a random 1D array of size 10 so that its sum equals 1.\n"
   ]
  },
  {
   "cell_type": "code",
   "execution_count": 84,
   "id": "83959a0c-270e-4344-9512-27bc744bcd14",
   "metadata": {},
   "outputs": [
    {
     "name": "stdout",
     "output_type": "stream",
     "text": [
      "[ 7  0  0  0  0  0  0  0  0  0  1  8  0  0  0  0  0  0  0  0  0  0  0  7\n",
      "  7  7  0  0  3  4  4  3  2  0  0  0 10  3  0  0  9  0  0  7  4  0  4  0\n",
      "  0  0  3  0  4  7  2  0  0  1  8  6  0  8  7  2  8  9  7  0  0  0  0  0\n",
      "  0  1  0  2  1  3 10  0  2  4  0  0  0  6  0  0  0  1  0  2  7  0  9  0\n",
      "  0  7  7  3]\n",
      "[[1. 1. 1. 1. 1. 1. 1. 1. 1. 1.]\n",
      " [1. 0. 0. 0. 0. 0. 0. 0. 0. 1.]\n",
      " [1. 0. 0. 0. 0. 0. 0. 0. 0. 1.]\n",
      " [1. 0. 0. 0. 0. 0. 0. 0. 0. 1.]\n",
      " [1. 0. 0. 0. 0. 0. 0. 0. 0. 1.]\n",
      " [1. 0. 0. 0. 0. 0. 0. 0. 0. 1.]\n",
      " [1. 0. 0. 0. 0. 0. 0. 0. 0. 1.]\n",
      " [1. 0. 0. 0. 0. 0. 0. 0. 0. 1.]\n",
      " [1. 0. 0. 0. 0. 0. 0. 0. 0. 1.]\n",
      " [1. 1. 1. 1. 1. 1. 1. 1. 1. 1.]]\n"
     ]
    }
   ],
   "source": [
    "arr = np.arange(1, 26)\n",
    "matrix_5X5= arr[:25].reshape(5,5)\n",
    "matrix_5X5.reshape(1,25)\n",
    "\n",
    "#Generate 100 random numbers between -10 and 10, replace negatives with 0\n",
    "\n",
    "rand_arr = np.random.randint(-10, 11, 100)\n",
    "rand_arr[rand_arr < 0] = 0\n",
    "print(rand_arr)\n",
    "\n",
    "\n",
    "#Create a 10×10 matrix with border = 1, inside = 0\n",
    "\n",
    "mat = np.ones((10,10))\n",
    "mat[1:-1, 1:-1] = 0\n",
    "print(mat)\n",
    "#arr[1:-1] excludes the first and last elements.So in 2D:\n",
    "#mat[1:-1, 1:-1] means:\n",
    "#Rows from index 1 to -2 (skip first & last row).\n",
    "#Columns from index 1 to -2 (skip first & last column)"
   ]
  },
  {
   "cell_type": "code",
   "execution_count": 85,
   "id": "13cd416e-864e-45f2-bc74-53feebf03365",
   "metadata": {},
   "outputs": [
    {
     "name": "stdout",
     "output_type": "stream",
     "text": [
      "[[0 1 0 1 0 1 0 1]\n",
      " [1 0 1 0 1 0 1 0]\n",
      " [0 1 0 1 0 1 0 1]\n",
      " [1 0 1 0 1 0 1 0]\n",
      " [0 1 0 1 0 1 0 1]\n",
      " [1 0 1 0 1 0 1 0]\n",
      " [0 1 0 1 0 1 0 1]\n",
      " [1 0 1 0 1 0 1 0]]\n"
     ]
    }
   ],
   "source": [
    "#Checkerboard pattern (8×8)\n",
    "checker = np.zeros((8,8), dtype=int)\n",
    "checker[1::2, ::2] = 1\n",
    "checker[::2, 1::2] = 1\n",
    "print(checker)\n"
   ]
  },
  {
   "cell_type": "code",
   "execution_count": 86,
   "id": "81fa370f-c631-4da7-8e87-bee45997fe83",
   "metadata": {},
   "outputs": [
    {
     "name": "stdout",
     "output_type": "stream",
     "text": [
      "[0.1267622  0.07249695 0.0482676  0.09370812 0.0060962  0.18589734\n",
      " 0.05745696 0.138372   0.25373289 0.01720974] 0.9999999999999999\n"
     ]
    }
   ],
   "source": [
    "arr = np.random.rand(10)\n",
    "normalized = arr / arr.sum()\n",
    "print(normalized, normalized.sum())"
   ]
  },
  {
   "cell_type": "code",
   "execution_count": 91,
   "id": "cdf67880-8ae3-48b1-87fb-8d268700a815",
   "metadata": {},
   "outputs": [
    {
     "data": {
      "text/plain": [
       "array([[ 1,  2,  3,  4,  5],\n",
       "       [ 6,  7,  8,  9, 10],\n",
       "       [11, 12, 13, 14, 15],\n",
       "       [16, 17, 18, 19, 20],\n",
       "       [21, 22, 23, 24, 25]])"
      ]
     },
     "execution_count": 91,
     "metadata": {},
     "output_type": "execute_result"
    }
   ],
   "source": [
    "#Indexing & Slicing (7 exercises)\n",
    "arr = np.arange(1, 26).reshape(5, 5)\n",
    "    # [[ 1  2  3  4  5]\n",
    "    #  [ 6  7  8  9 10]\n",
    "    #  [11 12 13 14 15]\n",
    "    #  [16 17 18 19 20]\n",
    "    #  [21 22 23 24 25]]\n",
    "\n",
    "arr"
   ]
  },
  {
   "cell_type": "code",
   "execution_count": 93,
   "id": "6018420e-0dde-471d-aa35-8fe58b5d17a4",
   "metadata": {},
   "outputs": [
    {
     "name": "stdout",
     "output_type": "stream",
     "text": [
      "[[ 7  8  9]\n",
      " [12 13 14]\n",
      " [17 18 19]]\n"
     ]
    }
   ],
   "source": [
    "#Middle 3×3 submatrix\n",
    "print(arr[1:4, 1:4])\n"
   ]
  },
  {
   "cell_type": "code",
   "execution_count": 94,
   "id": "1bdf78aa-3ff2-4d75-8852-164c507fe034",
   "metadata": {},
   "outputs": [
    {
     "name": "stdout",
     "output_type": "stream",
     "text": [
      "[[21 22 23 24 25]\n",
      " [16 17 18 19 20]\n",
      " [11 12 13 14 15]\n",
      " [ 6  7  8  9 10]\n",
      " [ 1  2  3  4  5]]\n"
     ]
    }
   ],
   "source": [
    "#Reverse rows\n",
    "print(arr[::-1, :])"
   ]
  },
  {
   "cell_type": "code",
   "execution_count": 95,
   "id": "f1dc3648-3a4d-4099-8341-2e236c5a27da",
   "metadata": {},
   "outputs": [
    {
     "name": "stdout",
     "output_type": "stream",
     "text": [
      "[[ 5  4  3  2  1]\n",
      " [10  9  8  7  6]\n",
      " [15 14 13 12 11]\n",
      " [20 19 18 17 16]\n",
      " [25 24 23 22 21]]\n"
     ]
    }
   ],
   "source": [
    "#Reverse columns\n",
    "print(arr[:, ::-1])"
   ]
  },
  {
   "cell_type": "code",
   "execution_count": 96,
   "id": "f3094165-ffaa-4bfc-8059-c88ccbeb0195",
   "metadata": {},
   "outputs": [
    {
     "name": "stdout",
     "output_type": "stream",
     "text": [
      "[21 23 25]\n"
     ]
    }
   ],
   "source": [
    "#Every second element of last row\n",
    "print(arr[-1, ::2])   # [21 23 25]"
   ]
  },
  {
   "cell_type": "code",
   "execution_count": 97,
   "id": "f41f3641-99f6-4411-83a1-5dc960932fe5",
   "metadata": {},
   "outputs": [
    {
     "name": "stdout",
     "output_type": "stream",
     "text": [
      "[np.int64(1), np.int64(5), np.int64(21), np.int64(25)]\n"
     ]
    }
   ],
   "source": [
    "#All corner elements\n",
    "corners = [arr[0,0], arr[0,-1], arr[-1,0], arr[-1,-1]]\n",
    "print(corners)"
   ]
  },
  {
   "cell_type": "code",
   "execution_count": null,
   "id": "77e43000-6631-47c2-98cd-60e0d542d232",
   "metadata": {},
   "outputs": [],
   "source": [
    "#Advanced Array Indexing \n",
    "arr = np.array([[5, 2, 9],\n",
    "                    [1, 7, 3],\n",
    "                    [8, 4, 6]])"
   ]
  },
  {
   "cell_type": "code",
   "execution_count": null,
   "id": "2a12d686-430e-4d61-bba1-4294753238dd",
   "metadata": {},
   "outputs": [],
   "source": [
    "#Extract elements (0,2), (1,1), (2,0)\n",
    "print(arr[(0,1,2), (2,1,0)])   # [9 7 8]\n"
   ]
  },
  {
   "cell_type": "code",
   "execution_count": null,
   "id": "93242bb7-93a3-404e-994a-3eb563bd6c3f",
   "metadata": {},
   "outputs": [],
   "source": [
    "#Replace even numbers with -1\n",
    "arr_even = arr.copy()\n",
    "arr_even[arr_even % 2 == 0] = -1\n",
    "print(arr_even)"
   ]
  }
 ],
 "metadata": {
  "kernelspec": {
   "display_name": "Python 3 (ipykernel)",
   "language": "python",
   "name": "python3"
  },
  "language_info": {
   "codemirror_mode": {
    "name": "ipython",
    "version": 3
   },
   "file_extension": ".py",
   "mimetype": "text/x-python",
   "name": "python",
   "nbconvert_exporter": "python",
   "pygments_lexer": "ipython3",
   "version": "3.9.19"
  }
 },
 "nbformat": 4,
 "nbformat_minor": 5
}
